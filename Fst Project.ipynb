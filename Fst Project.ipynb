{
 "cells": [
  {
   "cell_type": "raw",
   "metadata": {},
   "source": [
    "#Introduction\n",
    "power stations generate electricity from oil and natural gas transmit to homes and industries all over the country\n",
    "so how do power companies konw how much electricity we are going to consume\n",
    "\n",
    "\n",
    "What happens when power company  exceeds there supply?\n",
    "when the demand for energy increases in a  energy producing device , which may cause severe electricity disturbnces like brownouts and blackouts.\n",
    "Power failures are particularly critical at sites where the environment and public safety are at risk. such as hospitals, sewage treatment plants, and mines \n",
    "\n",
    "Computer systems and other electronic devices containing logic circuitry are going to loss there data  or hardware damage that can be caused by the sudden loss of power. These can include data networking equipment, video projectors, alarm systems as well as computers. To protect computer systems against this, the use of an uninterruptible power supply is neccessary\n",
    "\n",
    "\n",
    "\n",
    "\n",
    "\n",
    "If you divide that by 12 months, the average monthly electricity consumption is 886 kWh per month. What about in a single day? That would be 10,715 KWh divided by 365, or 29 kWh. Then the average daily electricity consumption is 29 kWh."
   ]
  },
  {
   "cell_type": "code",
   "execution_count": 1,
   "metadata": {},
   "outputs": [],
   "source": [
    "import numpy as np\n",
    "import pandas as pd\n",
    "import matplotlib.pyplot as plt\n",
    "import seaborn as sns\n",
    "%matplotlib inline\n",
    "import warnings\n",
    "warnings.filterwarnings('ignore')\n",
    "\n",
    "#for model building\n",
    "from sklearn.model_selection import train_test_split\n",
    "from sklearn.linear_model import LinearRegression,Ridge,Lasso\n",
    "from sklearn.svm import SVR\n",
    "from sklearn.preprocessing import StandardScaler \n",
    "from sklearn.ensemble import RandomForestRegressor\n",
    "from sklearn.tree import DecisionTreeRegressor\n",
    "from sklearn.ensemble import BaggingRegressor\n",
    "from sklearn.model_selection import RandomizedSearchCV  "
   ]
  },
  {
   "cell_type": "code",
   "execution_count": 2,
   "metadata": {},
   "outputs": [],
   "source": [
    "df=pd.read_csv(r\"C:\\Users\\hp\\Downloads\\household_power_consumption.csv\")"
   ]
  },
  {
   "cell_type": "code",
   "execution_count": 3,
   "metadata": {},
   "outputs": [
    {
     "data": {
      "text/html": [
       "<div>\n",
       "<style scoped>\n",
       "    .dataframe tbody tr th:only-of-type {\n",
       "        vertical-align: middle;\n",
       "    }\n",
       "\n",
       "    .dataframe tbody tr th {\n",
       "        vertical-align: top;\n",
       "    }\n",
       "\n",
       "    .dataframe thead th {\n",
       "        text-align: right;\n",
       "    }\n",
       "</style>\n",
       "<table border=\"1\" class=\"dataframe\">\n",
       "  <thead>\n",
       "    <tr style=\"text-align: right;\">\n",
       "      <th></th>\n",
       "      <th>Date</th>\n",
       "      <th>Time</th>\n",
       "      <th>Global_active_power</th>\n",
       "      <th>Global_reactive_power</th>\n",
       "      <th>Voltage</th>\n",
       "      <th>Global_intensity</th>\n",
       "      <th>Sub_metering_1</th>\n",
       "      <th>Sub_metering_2</th>\n",
       "      <th>Sub_metering_3</th>\n",
       "    </tr>\n",
       "  </thead>\n",
       "  <tbody>\n",
       "    <tr>\n",
       "      <th>0</th>\n",
       "      <td>16-12-2006</td>\n",
       "      <td>17:24:00</td>\n",
       "      <td>4.216</td>\n",
       "      <td>0.418</td>\n",
       "      <td>234.84</td>\n",
       "      <td>18.4</td>\n",
       "      <td>0</td>\n",
       "      <td>1</td>\n",
       "      <td>17.0</td>\n",
       "    </tr>\n",
       "    <tr>\n",
       "      <th>1</th>\n",
       "      <td>16-12-2006</td>\n",
       "      <td>17:25:00</td>\n",
       "      <td>5.36</td>\n",
       "      <td>0.436</td>\n",
       "      <td>233.63</td>\n",
       "      <td>23</td>\n",
       "      <td>0</td>\n",
       "      <td>1</td>\n",
       "      <td>16.0</td>\n",
       "    </tr>\n",
       "    <tr>\n",
       "      <th>2</th>\n",
       "      <td>16-12-2006</td>\n",
       "      <td>17:26:00</td>\n",
       "      <td>5.374</td>\n",
       "      <td>0.498</td>\n",
       "      <td>233.29</td>\n",
       "      <td>23</td>\n",
       "      <td>0</td>\n",
       "      <td>2</td>\n",
       "      <td>17.0</td>\n",
       "    </tr>\n",
       "    <tr>\n",
       "      <th>3</th>\n",
       "      <td>16-12-2006</td>\n",
       "      <td>17:27:00</td>\n",
       "      <td>5.388</td>\n",
       "      <td>0.502</td>\n",
       "      <td>233.74</td>\n",
       "      <td>23</td>\n",
       "      <td>0</td>\n",
       "      <td>1</td>\n",
       "      <td>17.0</td>\n",
       "    </tr>\n",
       "    <tr>\n",
       "      <th>4</th>\n",
       "      <td>16-12-2006</td>\n",
       "      <td>17:28:00</td>\n",
       "      <td>3.666</td>\n",
       "      <td>0.528</td>\n",
       "      <td>235.68</td>\n",
       "      <td>15.8</td>\n",
       "      <td>0</td>\n",
       "      <td>1</td>\n",
       "      <td>17.0</td>\n",
       "    </tr>\n",
       "    <tr>\n",
       "      <th>...</th>\n",
       "      <td>...</td>\n",
       "      <td>...</td>\n",
       "      <td>...</td>\n",
       "      <td>...</td>\n",
       "      <td>...</td>\n",
       "      <td>...</td>\n",
       "      <td>...</td>\n",
       "      <td>...</td>\n",
       "      <td>...</td>\n",
       "    </tr>\n",
       "    <tr>\n",
       "      <th>1048570</th>\n",
       "      <td>13-12-2008</td>\n",
       "      <td>21:34:00</td>\n",
       "      <td>0.426</td>\n",
       "      <td>0.076</td>\n",
       "      <td>242.27</td>\n",
       "      <td>1.8</td>\n",
       "      <td>0</td>\n",
       "      <td>0</td>\n",
       "      <td>0.0</td>\n",
       "    </tr>\n",
       "    <tr>\n",
       "      <th>1048571</th>\n",
       "      <td>13-12-2008</td>\n",
       "      <td>21:35:00</td>\n",
       "      <td>0.424</td>\n",
       "      <td>0.076</td>\n",
       "      <td>242.1</td>\n",
       "      <td>1.8</td>\n",
       "      <td>0</td>\n",
       "      <td>0</td>\n",
       "      <td>0.0</td>\n",
       "    </tr>\n",
       "    <tr>\n",
       "      <th>1048572</th>\n",
       "      <td>13-12-2008</td>\n",
       "      <td>21:36:00</td>\n",
       "      <td>0.422</td>\n",
       "      <td>0.076</td>\n",
       "      <td>241.73</td>\n",
       "      <td>1.8</td>\n",
       "      <td>0</td>\n",
       "      <td>0</td>\n",
       "      <td>0.0</td>\n",
       "    </tr>\n",
       "    <tr>\n",
       "      <th>1048573</th>\n",
       "      <td>13-12-2008</td>\n",
       "      <td>21:37:00</td>\n",
       "      <td>0.422</td>\n",
       "      <td>0.078</td>\n",
       "      <td>242.56</td>\n",
       "      <td>1.8</td>\n",
       "      <td>0</td>\n",
       "      <td>0</td>\n",
       "      <td>0.0</td>\n",
       "    </tr>\n",
       "    <tr>\n",
       "      <th>1048574</th>\n",
       "      <td>13-12-2008</td>\n",
       "      <td>21:38:00</td>\n",
       "      <td>0.422</td>\n",
       "      <td>0.078</td>\n",
       "      <td>242.61</td>\n",
       "      <td>1.8</td>\n",
       "      <td>0</td>\n",
       "      <td>0</td>\n",
       "      <td>0.0</td>\n",
       "    </tr>\n",
       "  </tbody>\n",
       "</table>\n",
       "<p>1048575 rows × 9 columns</p>\n",
       "</div>"
      ],
      "text/plain": [
       "               Date      Time Global_active_power Global_reactive_power  \\\n",
       "0        16-12-2006  17:24:00               4.216                 0.418   \n",
       "1        16-12-2006  17:25:00                5.36                 0.436   \n",
       "2        16-12-2006  17:26:00               5.374                 0.498   \n",
       "3        16-12-2006  17:27:00               5.388                 0.502   \n",
       "4        16-12-2006  17:28:00               3.666                 0.528   \n",
       "...             ...       ...                 ...                   ...   \n",
       "1048570  13-12-2008  21:34:00               0.426                 0.076   \n",
       "1048571  13-12-2008  21:35:00               0.424                 0.076   \n",
       "1048572  13-12-2008  21:36:00               0.422                 0.076   \n",
       "1048573  13-12-2008  21:37:00               0.422                 0.078   \n",
       "1048574  13-12-2008  21:38:00               0.422                 0.078   \n",
       "\n",
       "        Voltage Global_intensity Sub_metering_1 Sub_metering_2  Sub_metering_3  \n",
       "0        234.84             18.4              0              1            17.0  \n",
       "1        233.63               23              0              1            16.0  \n",
       "2        233.29               23              0              2            17.0  \n",
       "3        233.74               23              0              1            17.0  \n",
       "4        235.68             15.8              0              1            17.0  \n",
       "...         ...              ...            ...            ...             ...  \n",
       "1048570  242.27              1.8              0              0             0.0  \n",
       "1048571   242.1              1.8              0              0             0.0  \n",
       "1048572  241.73              1.8              0              0             0.0  \n",
       "1048573  242.56              1.8              0              0             0.0  \n",
       "1048574  242.61              1.8              0              0             0.0  \n",
       "\n",
       "[1048575 rows x 9 columns]"
      ]
     },
     "execution_count": 3,
     "metadata": {},
     "output_type": "execute_result"
    }
   ],
   "source": [
    "df"
   ]
  },
  {
   "cell_type": "code",
   "execution_count": 4,
   "metadata": {},
   "outputs": [
    {
     "data": {
      "text/html": [
       "<div>\n",
       "<style scoped>\n",
       "    .dataframe tbody tr th:only-of-type {\n",
       "        vertical-align: middle;\n",
       "    }\n",
       "\n",
       "    .dataframe tbody tr th {\n",
       "        vertical-align: top;\n",
       "    }\n",
       "\n",
       "    .dataframe thead th {\n",
       "        text-align: right;\n",
       "    }\n",
       "</style>\n",
       "<table border=\"1\" class=\"dataframe\">\n",
       "  <thead>\n",
       "    <tr style=\"text-align: right;\">\n",
       "      <th></th>\n",
       "      <th>Date</th>\n",
       "      <th>Time</th>\n",
       "      <th>Global_active_power</th>\n",
       "      <th>Global_reactive_power</th>\n",
       "      <th>Voltage</th>\n",
       "      <th>Global_intensity</th>\n",
       "      <th>Sub_metering_1</th>\n",
       "      <th>Sub_metering_2</th>\n",
       "      <th>Sub_metering_3</th>\n",
       "    </tr>\n",
       "  </thead>\n",
       "  <tbody>\n",
       "    <tr>\n",
       "      <th>0</th>\n",
       "      <td>16-12-2006</td>\n",
       "      <td>17:24:00</td>\n",
       "      <td>4.216</td>\n",
       "      <td>0.418</td>\n",
       "      <td>234.84</td>\n",
       "      <td>18.4</td>\n",
       "      <td>0</td>\n",
       "      <td>1</td>\n",
       "      <td>17.0</td>\n",
       "    </tr>\n",
       "    <tr>\n",
       "      <th>1</th>\n",
       "      <td>16-12-2006</td>\n",
       "      <td>17:25:00</td>\n",
       "      <td>5.36</td>\n",
       "      <td>0.436</td>\n",
       "      <td>233.63</td>\n",
       "      <td>23</td>\n",
       "      <td>0</td>\n",
       "      <td>1</td>\n",
       "      <td>16.0</td>\n",
       "    </tr>\n",
       "    <tr>\n",
       "      <th>2</th>\n",
       "      <td>16-12-2006</td>\n",
       "      <td>17:26:00</td>\n",
       "      <td>5.374</td>\n",
       "      <td>0.498</td>\n",
       "      <td>233.29</td>\n",
       "      <td>23</td>\n",
       "      <td>0</td>\n",
       "      <td>2</td>\n",
       "      <td>17.0</td>\n",
       "    </tr>\n",
       "    <tr>\n",
       "      <th>3</th>\n",
       "      <td>16-12-2006</td>\n",
       "      <td>17:27:00</td>\n",
       "      <td>5.388</td>\n",
       "      <td>0.502</td>\n",
       "      <td>233.74</td>\n",
       "      <td>23</td>\n",
       "      <td>0</td>\n",
       "      <td>1</td>\n",
       "      <td>17.0</td>\n",
       "    </tr>\n",
       "    <tr>\n",
       "      <th>4</th>\n",
       "      <td>16-12-2006</td>\n",
       "      <td>17:28:00</td>\n",
       "      <td>3.666</td>\n",
       "      <td>0.528</td>\n",
       "      <td>235.68</td>\n",
       "      <td>15.8</td>\n",
       "      <td>0</td>\n",
       "      <td>1</td>\n",
       "      <td>17.0</td>\n",
       "    </tr>\n",
       "  </tbody>\n",
       "</table>\n",
       "</div>"
      ],
      "text/plain": [
       "         Date      Time Global_active_power Global_reactive_power Voltage  \\\n",
       "0  16-12-2006  17:24:00               4.216                 0.418  234.84   \n",
       "1  16-12-2006  17:25:00                5.36                 0.436  233.63   \n",
       "2  16-12-2006  17:26:00               5.374                 0.498  233.29   \n",
       "3  16-12-2006  17:27:00               5.388                 0.502  233.74   \n",
       "4  16-12-2006  17:28:00               3.666                 0.528  235.68   \n",
       "\n",
       "  Global_intensity Sub_metering_1 Sub_metering_2  Sub_metering_3  \n",
       "0             18.4              0              1            17.0  \n",
       "1               23              0              1            16.0  \n",
       "2               23              0              2            17.0  \n",
       "3               23              0              1            17.0  \n",
       "4             15.8              0              1            17.0  "
      ]
     },
     "execution_count": 4,
     "metadata": {},
     "output_type": "execute_result"
    }
   ],
   "source": [
    "df.head()"
   ]
  },
  {
   "cell_type": "code",
   "execution_count": 5,
   "metadata": {},
   "outputs": [
    {
     "data": {
      "text/plain": [
       "(1048575, 9)"
      ]
     },
     "execution_count": 5,
     "metadata": {},
     "output_type": "execute_result"
    }
   ],
   "source": [
    "df.shape"
   ]
  },
  {
   "cell_type": "markdown",
   "metadata": {},
   "source": [
    "# data is too big so we take a small sample from it for model building"
   ]
  },
  {
   "cell_type": "code",
   "execution_count": 6,
   "metadata": {},
   "outputs": [
    {
     "data": {
      "text/plain": [
       "Index(['Date', 'Time', 'Global_active_power', 'Global_reactive_power',\n",
       "       'Voltage', 'Global_intensity', 'Sub_metering_1', 'Sub_metering_2',\n",
       "       'Sub_metering_3'],\n",
       "      dtype='object')"
      ]
     },
     "execution_count": 6,
     "metadata": {},
     "output_type": "execute_result"
    }
   ],
   "source": [
    "df.columns"
   ]
  },
  {
   "cell_type": "code",
   "execution_count": 7,
   "metadata": {},
   "outputs": [
    {
     "data": {
      "text/html": [
       "<div>\n",
       "<style scoped>\n",
       "    .dataframe tbody tr th:only-of-type {\n",
       "        vertical-align: middle;\n",
       "    }\n",
       "\n",
       "    .dataframe tbody tr th {\n",
       "        vertical-align: top;\n",
       "    }\n",
       "\n",
       "    .dataframe thead th {\n",
       "        text-align: right;\n",
       "    }\n",
       "</style>\n",
       "<table border=\"1\" class=\"dataframe\">\n",
       "  <thead>\n",
       "    <tr style=\"text-align: right;\">\n",
       "      <th></th>\n",
       "      <th>Sub_metering_3</th>\n",
       "    </tr>\n",
       "  </thead>\n",
       "  <tbody>\n",
       "    <tr>\n",
       "      <th>count</th>\n",
       "      <td>1.044506e+06</td>\n",
       "    </tr>\n",
       "    <tr>\n",
       "      <th>mean</th>\n",
       "      <td>5.933837e+00</td>\n",
       "    </tr>\n",
       "    <tr>\n",
       "      <th>std</th>\n",
       "      <td>8.210398e+00</td>\n",
       "    </tr>\n",
       "    <tr>\n",
       "      <th>min</th>\n",
       "      <td>0.000000e+00</td>\n",
       "    </tr>\n",
       "    <tr>\n",
       "      <th>25%</th>\n",
       "      <td>0.000000e+00</td>\n",
       "    </tr>\n",
       "    <tr>\n",
       "      <th>50%</th>\n",
       "      <td>0.000000e+00</td>\n",
       "    </tr>\n",
       "    <tr>\n",
       "      <th>75%</th>\n",
       "      <td>1.700000e+01</td>\n",
       "    </tr>\n",
       "    <tr>\n",
       "      <th>max</th>\n",
       "      <td>3.100000e+01</td>\n",
       "    </tr>\n",
       "  </tbody>\n",
       "</table>\n",
       "</div>"
      ],
      "text/plain": [
       "       Sub_metering_3\n",
       "count    1.044506e+06\n",
       "mean     5.933837e+00\n",
       "std      8.210398e+00\n",
       "min      0.000000e+00\n",
       "25%      0.000000e+00\n",
       "50%      0.000000e+00\n",
       "75%      1.700000e+01\n",
       "max      3.100000e+01"
      ]
     },
     "execution_count": 7,
     "metadata": {},
     "output_type": "execute_result"
    }
   ],
   "source": [
    "df.describe()"
   ]
  },
  {
   "cell_type": "code",
   "execution_count": 8,
   "metadata": {},
   "outputs": [
    {
     "data": {
      "text/html": [
       "<div>\n",
       "<style scoped>\n",
       "    .dataframe tbody tr th:only-of-type {\n",
       "        vertical-align: middle;\n",
       "    }\n",
       "\n",
       "    .dataframe tbody tr th {\n",
       "        vertical-align: top;\n",
       "    }\n",
       "\n",
       "    .dataframe thead th {\n",
       "        text-align: right;\n",
       "    }\n",
       "</style>\n",
       "<table border=\"1\" class=\"dataframe\">\n",
       "  <thead>\n",
       "    <tr style=\"text-align: right;\">\n",
       "      <th></th>\n",
       "      <th>Sub_metering_3</th>\n",
       "    </tr>\n",
       "  </thead>\n",
       "  <tbody>\n",
       "    <tr>\n",
       "      <th>Sub_metering_3</th>\n",
       "      <td>1.0</td>\n",
       "    </tr>\n",
       "  </tbody>\n",
       "</table>\n",
       "</div>"
      ],
      "text/plain": [
       "                Sub_metering_3\n",
       "Sub_metering_3             1.0"
      ]
     },
     "execution_count": 8,
     "metadata": {},
     "output_type": "execute_result"
    }
   ],
   "source": [
    "df.corr()"
   ]
  },
  {
   "cell_type": "code",
   "execution_count": 9,
   "metadata": {},
   "outputs": [
    {
     "data": {
      "text/plain": [
       "Date                        0\n",
       "Time                        0\n",
       "Global_active_power         0\n",
       "Global_reactive_power       0\n",
       "Voltage                     0\n",
       "Global_intensity            0\n",
       "Sub_metering_1              0\n",
       "Sub_metering_2              0\n",
       "Sub_metering_3           4069\n",
       "dtype: int64"
      ]
     },
     "execution_count": 9,
     "metadata": {},
     "output_type": "execute_result"
    }
   ],
   "source": [
    "df.isnull().sum()"
   ]
  },
  {
   "cell_type": "code",
   "execution_count": 10,
   "metadata": {},
   "outputs": [],
   "source": [
    "#df.dropna( axis=1, how=\"any\", thresh=None, subset=None, inplace=True)"
   ]
  },
  {
   "cell_type": "code",
   "execution_count": null,
   "metadata": {},
   "outputs": [],
   "source": []
  },
  {
   "cell_type": "code",
   "execution_count": 13,
   "metadata": {},
   "outputs": [],
   "source": [
    "df_sample=df.sample(60000)\n"
   ]
  },
  {
   "cell_type": "code",
   "execution_count": 14,
   "metadata": {},
   "outputs": [
    {
     "data": {
      "text/plain": [
       "(60000, 9)"
      ]
     },
     "execution_count": 14,
     "metadata": {},
     "output_type": "execute_result"
    }
   ],
   "source": [
    "df_sample.shape"
   ]
  },
  {
   "cell_type": "code",
   "execution_count": 15,
   "metadata": {},
   "outputs": [],
   "source": [
    "#we have taken 60000 samples ut of 1 milion to build the model"
   ]
  },
  {
   "cell_type": "code",
   "execution_count": 16,
   "metadata": {},
   "outputs": [],
   "source": [
    "#df_sample.drop(['Date','Time'],axis=1,inplace=True)"
   ]
  },
  {
   "cell_type": "code",
   "execution_count": 17,
   "metadata": {},
   "outputs": [
    {
     "data": {
      "text/html": [
       "<div>\n",
       "<style scoped>\n",
       "    .dataframe tbody tr th:only-of-type {\n",
       "        vertical-align: middle;\n",
       "    }\n",
       "\n",
       "    .dataframe tbody tr th {\n",
       "        vertical-align: top;\n",
       "    }\n",
       "\n",
       "    .dataframe thead th {\n",
       "        text-align: right;\n",
       "    }\n",
       "</style>\n",
       "<table border=\"1\" class=\"dataframe\">\n",
       "  <thead>\n",
       "    <tr style=\"text-align: right;\">\n",
       "      <th></th>\n",
       "      <th>Date</th>\n",
       "      <th>Time</th>\n",
       "      <th>Global_active_power</th>\n",
       "      <th>Global_reactive_power</th>\n",
       "      <th>Voltage</th>\n",
       "      <th>Global_intensity</th>\n",
       "      <th>Sub_metering_1</th>\n",
       "      <th>Sub_metering_2</th>\n",
       "      <th>Sub_metering_3</th>\n",
       "    </tr>\n",
       "  </thead>\n",
       "  <tbody>\n",
       "    <tr>\n",
       "      <th>191873</th>\n",
       "      <td>28-04-2007</td>\n",
       "      <td>23:17:00</td>\n",
       "      <td>?</td>\n",
       "      <td>?</td>\n",
       "      <td>?</td>\n",
       "      <td>?</td>\n",
       "      <td>?</td>\n",
       "      <td>?</td>\n",
       "      <td>NaN</td>\n",
       "    </tr>\n",
       "    <tr>\n",
       "      <th>194207</th>\n",
       "      <td>30-04-2007</td>\n",
       "      <td>14:11:00</td>\n",
       "      <td>?</td>\n",
       "      <td>?</td>\n",
       "      <td>?</td>\n",
       "      <td>?</td>\n",
       "      <td>?</td>\n",
       "      <td>?</td>\n",
       "      <td>NaN</td>\n",
       "    </tr>\n",
       "    <tr>\n",
       "      <th>193554</th>\n",
       "      <td>30-04-2007</td>\n",
       "      <td>03:18:00</td>\n",
       "      <td>?</td>\n",
       "      <td>?</td>\n",
       "      <td>?</td>\n",
       "      <td>?</td>\n",
       "      <td>?</td>\n",
       "      <td>?</td>\n",
       "      <td>NaN</td>\n",
       "    </tr>\n",
       "    <tr>\n",
       "      <th>191650</th>\n",
       "      <td>28-04-2007</td>\n",
       "      <td>19:34:00</td>\n",
       "      <td>?</td>\n",
       "      <td>?</td>\n",
       "      <td>?</td>\n",
       "      <td>?</td>\n",
       "      <td>?</td>\n",
       "      <td>?</td>\n",
       "      <td>NaN</td>\n",
       "    </tr>\n",
       "    <tr>\n",
       "      <th>566016</th>\n",
       "      <td>13-01-2008</td>\n",
       "      <td>19:00:00</td>\n",
       "      <td>?</td>\n",
       "      <td>?</td>\n",
       "      <td>?</td>\n",
       "      <td>?</td>\n",
       "      <td>?</td>\n",
       "      <td>?</td>\n",
       "      <td>NaN</td>\n",
       "    </tr>\n",
       "    <tr>\n",
       "      <th>...</th>\n",
       "      <td>...</td>\n",
       "      <td>...</td>\n",
       "      <td>...</td>\n",
       "      <td>...</td>\n",
       "      <td>...</td>\n",
       "      <td>...</td>\n",
       "      <td>...</td>\n",
       "      <td>...</td>\n",
       "      <td>...</td>\n",
       "    </tr>\n",
       "    <tr>\n",
       "      <th>327785</th>\n",
       "      <td>01-08-2007</td>\n",
       "      <td>08:29:00</td>\n",
       "      <td>?</td>\n",
       "      <td>?</td>\n",
       "      <td>?</td>\n",
       "      <td>?</td>\n",
       "      <td>?</td>\n",
       "      <td>?</td>\n",
       "      <td>NaN</td>\n",
       "    </tr>\n",
       "    <tr>\n",
       "      <th>192803</th>\n",
       "      <td>29-04-2007</td>\n",
       "      <td>14:47:00</td>\n",
       "      <td>?</td>\n",
       "      <td>?</td>\n",
       "      <td>?</td>\n",
       "      <td>?</td>\n",
       "      <td>?</td>\n",
       "      <td>?</td>\n",
       "      <td>NaN</td>\n",
       "    </tr>\n",
       "    <tr>\n",
       "      <th>190530</th>\n",
       "      <td>28-04-2007</td>\n",
       "      <td>00:54:00</td>\n",
       "      <td>?</td>\n",
       "      <td>?</td>\n",
       "      <td>?</td>\n",
       "      <td>?</td>\n",
       "      <td>?</td>\n",
       "      <td>?</td>\n",
       "      <td>NaN</td>\n",
       "    </tr>\n",
       "    <tr>\n",
       "      <th>303929</th>\n",
       "      <td>15-07-2007</td>\n",
       "      <td>18:53:00</td>\n",
       "      <td>?</td>\n",
       "      <td>?</td>\n",
       "      <td>?</td>\n",
       "      <td>?</td>\n",
       "      <td>?</td>\n",
       "      <td>?</td>\n",
       "      <td>NaN</td>\n",
       "    </tr>\n",
       "    <tr>\n",
       "      <th>191340</th>\n",
       "      <td>28-04-2007</td>\n",
       "      <td>14:24:00</td>\n",
       "      <td>?</td>\n",
       "      <td>?</td>\n",
       "      <td>?</td>\n",
       "      <td>?</td>\n",
       "      <td>?</td>\n",
       "      <td>?</td>\n",
       "      <td>NaN</td>\n",
       "    </tr>\n",
       "  </tbody>\n",
       "</table>\n",
       "<p>229 rows × 9 columns</p>\n",
       "</div>"
      ],
      "text/plain": [
       "              Date      Time Global_active_power Global_reactive_power  \\\n",
       "191873  28-04-2007  23:17:00                   ?                     ?   \n",
       "194207  30-04-2007  14:11:00                   ?                     ?   \n",
       "193554  30-04-2007  03:18:00                   ?                     ?   \n",
       "191650  28-04-2007  19:34:00                   ?                     ?   \n",
       "566016  13-01-2008  19:00:00                   ?                     ?   \n",
       "...            ...       ...                 ...                   ...   \n",
       "327785  01-08-2007  08:29:00                   ?                     ?   \n",
       "192803  29-04-2007  14:47:00                   ?                     ?   \n",
       "190530  28-04-2007  00:54:00                   ?                     ?   \n",
       "303929  15-07-2007  18:53:00                   ?                     ?   \n",
       "191340  28-04-2007  14:24:00                   ?                     ?   \n",
       "\n",
       "       Voltage Global_intensity Sub_metering_1 Sub_metering_2  Sub_metering_3  \n",
       "191873       ?                ?              ?              ?             NaN  \n",
       "194207       ?                ?              ?              ?             NaN  \n",
       "193554       ?                ?              ?              ?             NaN  \n",
       "191650       ?                ?              ?              ?             NaN  \n",
       "566016       ?                ?              ?              ?             NaN  \n",
       "...        ...              ...            ...            ...             ...  \n",
       "327785       ?                ?              ?              ?             NaN  \n",
       "192803       ?                ?              ?              ?             NaN  \n",
       "190530       ?                ?              ?              ?             NaN  \n",
       "303929       ?                ?              ?              ?             NaN  \n",
       "191340       ?                ?              ?              ?             NaN  \n",
       "\n",
       "[229 rows x 9 columns]"
      ]
     },
     "execution_count": 17,
     "metadata": {},
     "output_type": "execute_result"
    }
   ],
   "source": [
    "special_char=df_sample[df_sample['Voltage']==\"?\"]\n",
    "special_char"
   ]
  },
  {
   "cell_type": "code",
   "execution_count": 18,
   "metadata": {},
   "outputs": [],
   "source": [
    "#DROP THESE RECORDS HAVING SPECIAL CHARACTER"
   ]
  },
  {
   "cell_type": "code",
   "execution_count": 19,
   "metadata": {},
   "outputs": [
    {
     "name": "stdout",
     "output_type": "stream",
     "text": [
      "data before special characters (60000, 9)\n",
      "data after special characters (59771, 9)\n"
     ]
    }
   ],
   "source": [
    "print(\"data before special characters\",df_sample.shape)\n",
    "df_sample.drop(special_char.index,axis=0,inplace=True)\n",
    "print(\"data after special characters\",df_sample.shape)"
   ]
  },
  {
   "cell_type": "code",
   "execution_count": 20,
   "metadata": {},
   "outputs": [],
   "source": [
    "#check duplicates"
   ]
  },
  {
   "cell_type": "code",
   "execution_count": 21,
   "metadata": {},
   "outputs": [
    {
     "data": {
      "text/plain": [
       "0"
      ]
     },
     "execution_count": 21,
     "metadata": {},
     "output_type": "execute_result"
    }
   ],
   "source": [
    "df_sample.duplicated().sum()\n"
   ]
  },
  {
   "cell_type": "code",
   "execution_count": 22,
   "metadata": {},
   "outputs": [
    {
     "name": "stdout",
     "output_type": "stream",
     "text": [
      "data before duplicated records (59771, 9)\n",
      "data after duplicated records (59771, 9)\n"
     ]
    }
   ],
   "source": [
    "print(\"data before duplicated records\",df_sample.shape)\n",
    "df_sample.drop_duplicates(inplace=True)\n",
    "print(\"data after duplicated records\",df_sample.shape)"
   ]
  },
  {
   "cell_type": "code",
   "execution_count": 23,
   "metadata": {},
   "outputs": [
    {
     "data": {
      "text/plain": [
       "Date                     0\n",
       "Time                     0\n",
       "Global_active_power      0\n",
       "Global_reactive_power    0\n",
       "Voltage                  0\n",
       "Global_intensity         0\n",
       "Sub_metering_1           0\n",
       "Sub_metering_2           0\n",
       "Sub_metering_3           0\n",
       "dtype: int64"
      ]
     },
     "execution_count": 23,
     "metadata": {},
     "output_type": "execute_result"
    }
   ],
   "source": [
    "df_sample.isna().sum()"
   ]
  },
  {
   "cell_type": "markdown",
   "metadata": {},
   "source": [
    "# no null values found in the dataset"
   ]
  },
  {
   "cell_type": "code",
   "execution_count": 24,
   "metadata": {},
   "outputs": [
    {
     "data": {
      "text/plain": [
       "Date                      object\n",
       "Time                      object\n",
       "Global_active_power       object\n",
       "Global_reactive_power     object\n",
       "Voltage                   object\n",
       "Global_intensity          object\n",
       "Sub_metering_1            object\n",
       "Sub_metering_2            object\n",
       "Sub_metering_3           float64\n",
       "dtype: object"
      ]
     },
     "execution_count": 24,
     "metadata": {},
     "output_type": "execute_result"
    }
   ],
   "source": [
    "df_sample.dtypes"
   ]
  },
  {
   "cell_type": "code",
   "execution_count": 25,
   "metadata": {},
   "outputs": [],
   "source": [
    "df_sample.drop(['Date','Time'],axis=1,inplace=True)"
   ]
  },
  {
   "cell_type": "code",
   "execution_count": 26,
   "metadata": {},
   "outputs": [],
   "source": [
    "df_sample=df_sample.astype(float)"
   ]
  },
  {
   "cell_type": "code",
   "execution_count": 27,
   "metadata": {},
   "outputs": [],
   "source": [
    "df_sample['meter']=df_sample['Sub_metering_1']+df_sample['Sub_metering_2']+df_sample['Sub_metering_3']"
   ]
  },
  {
   "cell_type": "code",
   "execution_count": 28,
   "metadata": {},
   "outputs": [],
   "source": [
    "#now drop 3 columns\n",
    "df_sample.drop(['Sub_metering_1','Sub_metering_2','Sub_metering_3'],axis=1,inplace=True)"
   ]
  },
  {
   "cell_type": "code",
   "execution_count": 29,
   "metadata": {},
   "outputs": [
    {
     "data": {
      "text/html": [
       "<div>\n",
       "<style scoped>\n",
       "    .dataframe tbody tr th:only-of-type {\n",
       "        vertical-align: middle;\n",
       "    }\n",
       "\n",
       "    .dataframe tbody tr th {\n",
       "        vertical-align: top;\n",
       "    }\n",
       "\n",
       "    .dataframe thead th {\n",
       "        text-align: right;\n",
       "    }\n",
       "</style>\n",
       "<table border=\"1\" class=\"dataframe\">\n",
       "  <thead>\n",
       "    <tr style=\"text-align: right;\">\n",
       "      <th></th>\n",
       "      <th>Global_active_power</th>\n",
       "      <th>Global_reactive_power</th>\n",
       "      <th>Voltage</th>\n",
       "      <th>Global_intensity</th>\n",
       "      <th>meter</th>\n",
       "    </tr>\n",
       "  </thead>\n",
       "  <tbody>\n",
       "    <tr>\n",
       "      <th>838624</th>\n",
       "      <td>0.238</td>\n",
       "      <td>0.094</td>\n",
       "      <td>238.85</td>\n",
       "      <td>1.0</td>\n",
       "      <td>3.0</td>\n",
       "    </tr>\n",
       "    <tr>\n",
       "      <th>123524</th>\n",
       "      <td>2.010</td>\n",
       "      <td>0.234</td>\n",
       "      <td>236.94</td>\n",
       "      <td>8.6</td>\n",
       "      <td>19.0</td>\n",
       "    </tr>\n",
       "    <tr>\n",
       "      <th>384105</th>\n",
       "      <td>0.220</td>\n",
       "      <td>0.050</td>\n",
       "      <td>239.87</td>\n",
       "      <td>1.0</td>\n",
       "      <td>0.0</td>\n",
       "    </tr>\n",
       "    <tr>\n",
       "      <th>339343</th>\n",
       "      <td>1.414</td>\n",
       "      <td>0.098</td>\n",
       "      <td>234.60</td>\n",
       "      <td>6.0</td>\n",
       "      <td>17.0</td>\n",
       "    </tr>\n",
       "    <tr>\n",
       "      <th>23196</th>\n",
       "      <td>0.440</td>\n",
       "      <td>0.126</td>\n",
       "      <td>237.91</td>\n",
       "      <td>1.8</td>\n",
       "      <td>1.0</td>\n",
       "    </tr>\n",
       "  </tbody>\n",
       "</table>\n",
       "</div>"
      ],
      "text/plain": [
       "        Global_active_power  Global_reactive_power  Voltage  Global_intensity  \\\n",
       "838624                0.238                  0.094   238.85               1.0   \n",
       "123524                2.010                  0.234   236.94               8.6   \n",
       "384105                0.220                  0.050   239.87               1.0   \n",
       "339343                1.414                  0.098   234.60               6.0   \n",
       "23196                 0.440                  0.126   237.91               1.8   \n",
       "\n",
       "        meter  \n",
       "838624    3.0  \n",
       "123524   19.0  \n",
       "384105    0.0  \n",
       "339343   17.0  \n",
       "23196     1.0  "
      ]
     },
     "execution_count": 29,
     "metadata": {},
     "output_type": "execute_result"
    }
   ],
   "source": [
    "df_sample.head()"
   ]
  },
  {
   "cell_type": "code",
   "execution_count": 30,
   "metadata": {},
   "outputs": [],
   "source": [
    "# Convert the 'Date' and 'Time' columns to a single 'date_time' column\n",
    "# by combining the two columns and converting to datetime format\n",
    "#df_sample['date_time'] = pd.to_datetime(df_sample['Date'] + ' ' + df_sample['Time'])"
   ]
  },
  {
   "cell_type": "code",
   "execution_count": 31,
   "metadata": {},
   "outputs": [],
   "source": [
    "# Convert the 'Global_active_power' column to numeric format\n",
    "# and remove any rows with NaN values\n",
    "#df_sample['Global_active_power'] = pd.to_numeric(df_sample['Global_active_power'], errors='coerce')\n",
    "#df_sample = df_sample.dropna(subset=['Global_active_power'])"
   ]
  },
  {
   "cell_type": "code",
   "execution_count": 32,
   "metadata": {},
   "outputs": [],
   "source": [
    "#df_sample.head()"
   ]
  },
  {
   "cell_type": "code",
   "execution_count": 33,
   "metadata": {},
   "outputs": [],
   "source": [
    "# Convert the 'date_time' column to datetime format\n",
    "#df_sample['date_time'] = pd.to_datetime(df_sample['date_time']) "
   ]
  },
  {
   "cell_type": "code",
   "execution_count": 34,
   "metadata": {},
   "outputs": [],
   "source": [
    "# Create new columns for year, quarter, month, and day\n",
    "#df_sample['year'] = df_sample['date_time'].apply(lambda x: x.year)\n",
    "#df_sample['quarter'] = df_sample['date_time'].apply(lambda x: x.quarter)\n",
    "#df_sample['month'] = df_sample['date_time'].apply(lambda x: x.month)\n",
    "#df_sample['day'] = df_sample['date_time'].apply(lambda x: x.day)"
   ]
  },
  {
   "cell_type": "code",
   "execution_count": 35,
   "metadata": {},
   "outputs": [],
   "source": [
    "#df_sample.head()"
   ]
  },
  {
   "cell_type": "code",
   "execution_count": 36,
   "metadata": {},
   "outputs": [],
   "source": [
    "# Sort the data by date_time in ascending order\n",
    "#df_sample.sort_values('date_time', inplace=True, ascending=True)"
   ]
  },
  {
   "cell_type": "code",
   "execution_count": 37,
   "metadata": {},
   "outputs": [],
   "source": [
    "# Keep only the columns 'date_time', 'Global_active_power', 'year', 'quarter', 'month', 'day'\n",
    "#df_sample = df_sample.loc[:,['date_time','Global_active_power', 'year','quarter','month','day']]"
   ]
  },
  {
   "cell_type": "code",
   "execution_count": 38,
   "metadata": {},
   "outputs": [],
   "source": [
    "# Sort the data by date_time in ascending order\n",
    "#df_sample.sort_values('date_time', inplace=True, ascending=True)"
   ]
  },
  {
   "cell_type": "code",
   "execution_count": 39,
   "metadata": {},
   "outputs": [],
   "source": [
    "# Reset the index of the data\n",
    "#df_sample = df_sample.reset_index(drop=True)\n",
    "#df_sample.head()"
   ]
  },
  {
   "cell_type": "code",
   "execution_count": 40,
   "metadata": {},
   "outputs": [],
   "source": [
    "# Create a new column 'weekday' that indicates if the day is a weekday (1) or weekend (0)\n",
    "#df_sample['weekday'] = df_sample['date_time'].apply(lambda x: x.weekday() < 5).astype(int)"
   ]
  },
  {
   "cell_type": "code",
   "execution_count": 41,
   "metadata": {},
   "outputs": [],
   "source": [
    "# Print the number of rows and columns in the data\n",
    "#print('Number of rows and columns:', df_sample.shape)\n",
    "\n",
    "# Print the minimum and maximum date_time values\n",
    "#print('Minimum date_time:', df_sample.date_time.min())\n",
    "#print('Maximum date_time:', df_sample.date_time.max())\n",
    "\n",
    "# Display the last 5 rows of the data\n",
    "#df_sample.tail(5)"
   ]
  },
  {
   "cell_type": "code",
   "execution_count": 42,
   "metadata": {},
   "outputs": [],
   "source": [
    "#df_sample = df_sample.loc[:,['date_time','Global_active_power', 'year','quarter','month','day']]"
   ]
  },
  {
   "cell_type": "code",
   "execution_count": 43,
   "metadata": {},
   "outputs": [],
   "source": [
    "#df_sample.drop(['Date','Time'],axis=1,inplace=True)\n"
   ]
  },
  {
   "cell_type": "code",
   "execution_count": 44,
   "metadata": {},
   "outputs": [],
   "source": [
    "df_sample=df_sample.astype(float)"
   ]
  },
  {
   "cell_type": "code",
   "execution_count": null,
   "metadata": {},
   "outputs": [],
   "source": []
  },
  {
   "cell_type": "code",
   "execution_count": 46,
   "metadata": {},
   "outputs": [
    {
     "data": {
      "text/html": [
       "<div>\n",
       "<style scoped>\n",
       "    .dataframe tbody tr th:only-of-type {\n",
       "        vertical-align: middle;\n",
       "    }\n",
       "\n",
       "    .dataframe tbody tr th {\n",
       "        vertical-align: top;\n",
       "    }\n",
       "\n",
       "    .dataframe thead th {\n",
       "        text-align: right;\n",
       "    }\n",
       "</style>\n",
       "<table border=\"1\" class=\"dataframe\">\n",
       "  <thead>\n",
       "    <tr style=\"text-align: right;\">\n",
       "      <th></th>\n",
       "      <th>Global_active_power</th>\n",
       "      <th>Global_reactive_power</th>\n",
       "      <th>Voltage</th>\n",
       "      <th>Global_intensity</th>\n",
       "      <th>meter</th>\n",
       "    </tr>\n",
       "  </thead>\n",
       "  <tbody>\n",
       "    <tr>\n",
       "      <th>838624</th>\n",
       "      <td>0.238</td>\n",
       "      <td>0.094</td>\n",
       "      <td>238.85</td>\n",
       "      <td>1.0</td>\n",
       "      <td>3.0</td>\n",
       "    </tr>\n",
       "    <tr>\n",
       "      <th>123524</th>\n",
       "      <td>2.010</td>\n",
       "      <td>0.234</td>\n",
       "      <td>236.94</td>\n",
       "      <td>8.6</td>\n",
       "      <td>19.0</td>\n",
       "    </tr>\n",
       "    <tr>\n",
       "      <th>384105</th>\n",
       "      <td>0.220</td>\n",
       "      <td>0.050</td>\n",
       "      <td>239.87</td>\n",
       "      <td>1.0</td>\n",
       "      <td>0.0</td>\n",
       "    </tr>\n",
       "    <tr>\n",
       "      <th>339343</th>\n",
       "      <td>1.414</td>\n",
       "      <td>0.098</td>\n",
       "      <td>234.60</td>\n",
       "      <td>6.0</td>\n",
       "      <td>17.0</td>\n",
       "    </tr>\n",
       "    <tr>\n",
       "      <th>23196</th>\n",
       "      <td>0.440</td>\n",
       "      <td>0.126</td>\n",
       "      <td>237.91</td>\n",
       "      <td>1.8</td>\n",
       "      <td>1.0</td>\n",
       "    </tr>\n",
       "  </tbody>\n",
       "</table>\n",
       "</div>"
      ],
      "text/plain": [
       "        Global_active_power  Global_reactive_power  Voltage  Global_intensity  \\\n",
       "838624                0.238                  0.094   238.85               1.0   \n",
       "123524                2.010                  0.234   236.94               8.6   \n",
       "384105                0.220                  0.050   239.87               1.0   \n",
       "339343                1.414                  0.098   234.60               6.0   \n",
       "23196                 0.440                  0.126   237.91               1.8   \n",
       "\n",
       "        meter  \n",
       "838624    3.0  \n",
       "123524   19.0  \n",
       "384105    0.0  \n",
       "339343   17.0  \n",
       "23196     1.0  "
      ]
     },
     "execution_count": 46,
     "metadata": {},
     "output_type": "execute_result"
    }
   ],
   "source": [
    "df_sample.head()"
   ]
  },
  {
   "cell_type": "code",
   "execution_count": 47,
   "metadata": {},
   "outputs": [],
   "source": [
    "#Testing for Normality of the Global Active Power Data\n",
    "#Testing for Normality\n",
    "\n",
    "# the p-value will be used to make the following interpretation:\n",
    "\n",
    "#If p <= alpha, we will reject the null hypothesis (H0) and conclude that the data is not normally distributed.\n",
    "#If p > alpha, we will fail to reject the null hypothesis and conclude that the data is normal."
   ]
  },
  {
   "cell_type": "code",
   "execution_count": 48,
   "metadata": {},
   "outputs": [
    {
     "name": "stdout",
     "output_type": "stream",
     "text": [
      "Requirement already satisfied: stats in c:\\users\\hp\\anaconda3\\lib\\site-packages (0.1.2a0)\n"
     ]
    }
   ],
   "source": [
    "!pip install stats"
   ]
  },
  {
   "cell_type": "code",
   "execution_count": 49,
   "metadata": {},
   "outputs": [
    {
     "name": "stdout",
     "output_type": "stream",
     "text": [
      "Statistics=20188.182, p=0.000\n",
      "Data does not look Gaussian (reject H0)\n"
     ]
    }
   ],
   "source": [
    "# Test for Normality of the Global Active Power Data\n",
    "\n",
    "# Import the required libraries\n",
    "import scipy.stats as stats\n",
    "\n",
    "# Calculate the test statistics and p-value\n",
    "stat, p = stats.normaltest(df_sample.Global_active_power)\n",
    "# Print the results\n",
    "print('Statistics=%.3f, p=%.3f' % (stat, p))\n",
    "\n",
    "# Set the significance level\n",
    "alpha = 0.05\n",
    "\n",
    "# Make a decision on the test result\n",
    "if p > alpha:\n",
    "    print('Data looks Gaussian (fail to reject H0)')\n",
    "else:\n",
    "    print('Data does not look Gaussian (reject H0)')"
   ]
  },
  {
   "cell_type": "code",
   "execution_count": 50,
   "metadata": {},
   "outputs": [
    {
     "name": "stdout",
     "output_type": "stream",
     "text": [
      "Kurtosis of normal distribution: 3.695512937912331\n",
      "Skewness of normal distribution: 1.7518866977581877\n"
     ]
    },
    {
     "data": {
      "image/png": "[encoded data removed]",
      "text/plain": [
       "<Figure size 432x288 with 1 Axes>"
      ]
     },
     "metadata": {
      "needs_background": "light"
     },
     "output_type": "display_data"
    }
   ],
   "source": [
    "#check Kurtosis and skewness\n",
    "sns.distplot(df_sample.Global_active_power)\n",
    "print('Kurtosis of normal distribution: {}'.format(stats.kurtosis(df_sample.Global_active_power)))\n",
    "print('Skewness of normal distribution: {}'.format(stats.skew(df_sample.Global_active_power)))"
   ]
  },
  {
   "cell_type": "markdown",
   "metadata": {},
   "source": [
    " The kurtosis of a normal distribution is close to zero, and if the kurtosis is greater than zero, the distribution has heavier tails.\n",
    "\n",
    "On the other hand, skewness measures the symmetry of the distribution. If the skewness is between -0.5 and 0.5, the data is considered fairly symmetrical.\n",
    "\n",
    "However, if the skewness falls between -1 and -0.5 or between 0.5 and 1, the data is considered moderately skewed.\n",
    "\n",
    "Lastly, if the skewness is less than -1 or greater than 1, the data is considered highly skewed. In this particular case, the skewness value is greater than 1, indicating a highly skewed distribution."
   ]
  },
  {
   "cell_type": "code",
   "execution_count": 51,
   "metadata": {},
   "outputs": [
    {
     "data": {
      "text/html": [
       "<div>\n",
       "<style scoped>\n",
       "    .dataframe tbody tr th:only-of-type {\n",
       "        vertical-align: middle;\n",
       "    }\n",
       "\n",
       "    .dataframe tbody tr th {\n",
       "        vertical-align: top;\n",
       "    }\n",
       "\n",
       "    .dataframe thead th {\n",
       "        text-align: right;\n",
       "    }\n",
       "</style>\n",
       "<table border=\"1\" class=\"dataframe\">\n",
       "  <thead>\n",
       "    <tr style=\"text-align: right;\">\n",
       "      <th></th>\n",
       "      <th>Global_active_power</th>\n",
       "      <th>Global_reactive_power</th>\n",
       "      <th>Voltage</th>\n",
       "      <th>Global_intensity</th>\n",
       "      <th>meter</th>\n",
       "    </tr>\n",
       "  </thead>\n",
       "  <tbody>\n",
       "    <tr>\n",
       "      <th>count</th>\n",
       "      <td>59771.000000</td>\n",
       "      <td>59771.000000</td>\n",
       "      <td>59771.000000</td>\n",
       "      <td>59771.000000</td>\n",
       "      <td>59771.000000</td>\n",
       "    </tr>\n",
       "    <tr>\n",
       "      <th>mean</th>\n",
       "      <td>1.117458</td>\n",
       "      <td>0.118960</td>\n",
       "      <td>239.944352</td>\n",
       "      <td>4.758134</td>\n",
       "      <td>8.690000</td>\n",
       "    </tr>\n",
       "    <tr>\n",
       "      <th>std</th>\n",
       "      <td>1.138350</td>\n",
       "      <td>0.109883</td>\n",
       "      <td>3.289343</td>\n",
       "      <td>4.801220</td>\n",
       "      <td>13.399316</td>\n",
       "    </tr>\n",
       "    <tr>\n",
       "      <th>min</th>\n",
       "      <td>0.078000</td>\n",
       "      <td>0.000000</td>\n",
       "      <td>225.070000</td>\n",
       "      <td>0.200000</td>\n",
       "      <td>0.000000</td>\n",
       "    </tr>\n",
       "    <tr>\n",
       "      <th>25%</th>\n",
       "      <td>0.290000</td>\n",
       "      <td>0.000000</td>\n",
       "      <td>237.950000</td>\n",
       "      <td>1.200000</td>\n",
       "      <td>0.000000</td>\n",
       "    </tr>\n",
       "    <tr>\n",
       "      <th>50%</th>\n",
       "      <td>0.554000</td>\n",
       "      <td>0.098000</td>\n",
       "      <td>240.210000</td>\n",
       "      <td>2.400000</td>\n",
       "      <td>1.000000</td>\n",
       "    </tr>\n",
       "    <tr>\n",
       "      <th>75%</th>\n",
       "      <td>1.556000</td>\n",
       "      <td>0.186000</td>\n",
       "      <td>242.120000</td>\n",
       "      <td>6.600000</td>\n",
       "      <td>18.000000</td>\n",
       "    </tr>\n",
       "    <tr>\n",
       "      <th>max</th>\n",
       "      <td>9.392000</td>\n",
       "      <td>1.034000</td>\n",
       "      <td>251.260000</td>\n",
       "      <td>41.400000</td>\n",
       "      <td>129.000000</td>\n",
       "    </tr>\n",
       "  </tbody>\n",
       "</table>\n",
       "</div>"
      ],
      "text/plain": [
       "       Global_active_power  Global_reactive_power       Voltage  \\\n",
       "count         59771.000000           59771.000000  59771.000000   \n",
       "mean              1.117458               0.118960    239.944352   \n",
       "std               1.138350               0.109883      3.289343   \n",
       "min               0.078000               0.000000    225.070000   \n",
       "25%               0.290000               0.000000    237.950000   \n",
       "50%               0.554000               0.098000    240.210000   \n",
       "75%               1.556000               0.186000    242.120000   \n",
       "max               9.392000               1.034000    251.260000   \n",
       "\n",
       "       Global_intensity         meter  \n",
       "count      59771.000000  59771.000000  \n",
       "mean           4.758134      8.690000  \n",
       "std            4.801220     13.399316  \n",
       "min            0.200000      0.000000  \n",
       "25%            1.200000      0.000000  \n",
       "50%            2.400000      1.000000  \n",
       "75%            6.600000     18.000000  \n",
       "max           41.400000    129.000000  "
      ]
     },
     "execution_count": 51,
     "metadata": {},
     "output_type": "execute_result"
    }
   ],
   "source": [
    "df_sample.describe()"
   ]
  },
  {
   "cell_type": "code",
   "execution_count": null,
   "metadata": {},
   "outputs": [],
   "source": []
  },
  {
   "cell_type": "code",
   "execution_count": 52,
   "metadata": {},
   "outputs": [],
   "source": [
    "#we can see there is no multicollarinity\n",
    "#there is weak colrelation between some colume and y but delete these colume we have an doman knlowdge"
   ]
  },
  {
   "cell_type": "code",
   "execution_count": 53,
   "metadata": {},
   "outputs": [
    {
     "data": {
      "text/html": [
       "<div>\n",
       "<style scoped>\n",
       "    .dataframe tbody tr th:only-of-type {\n",
       "        vertical-align: middle;\n",
       "    }\n",
       "\n",
       "    .dataframe tbody tr th {\n",
       "        vertical-align: top;\n",
       "    }\n",
       "\n",
       "    .dataframe thead th {\n",
       "        text-align: right;\n",
       "    }\n",
       "</style>\n",
       "<table border=\"1\" class=\"dataframe\">\n",
       "  <thead>\n",
       "    <tr style=\"text-align: right;\">\n",
       "      <th></th>\n",
       "      <th>Global_active_power</th>\n",
       "      <th>Global_reactive_power</th>\n",
       "      <th>Voltage</th>\n",
       "      <th>Global_intensity</th>\n",
       "      <th>meter</th>\n",
       "    </tr>\n",
       "  </thead>\n",
       "  <tbody>\n",
       "    <tr>\n",
       "      <th>Global_active_power</th>\n",
       "      <td>1.000000</td>\n",
       "      <td>0.249617</td>\n",
       "      <td>-0.401710</td>\n",
       "      <td>0.999020</td>\n",
       "      <td>0.831357</td>\n",
       "    </tr>\n",
       "    <tr>\n",
       "      <th>Global_reactive_power</th>\n",
       "      <td>0.249617</td>\n",
       "      <td>1.000000</td>\n",
       "      <td>-0.118007</td>\n",
       "      <td>0.266434</td>\n",
       "      <td>0.176070</td>\n",
       "    </tr>\n",
       "    <tr>\n",
       "      <th>Voltage</th>\n",
       "      <td>-0.401710</td>\n",
       "      <td>-0.118007</td>\n",
       "      <td>1.000000</td>\n",
       "      <td>-0.412042</td>\n",
       "      <td>-0.362564</td>\n",
       "    </tr>\n",
       "    <tr>\n",
       "      <th>Global_intensity</th>\n",
       "      <td>0.999020</td>\n",
       "      <td>0.266434</td>\n",
       "      <td>-0.412042</td>\n",
       "      <td>1.000000</td>\n",
       "      <td>0.829410</td>\n",
       "    </tr>\n",
       "    <tr>\n",
       "      <th>meter</th>\n",
       "      <td>0.831357</td>\n",
       "      <td>0.176070</td>\n",
       "      <td>-0.362564</td>\n",
       "      <td>0.829410</td>\n",
       "      <td>1.000000</td>\n",
       "    </tr>\n",
       "  </tbody>\n",
       "</table>\n",
       "</div>"
      ],
      "text/plain": [
       "                       Global_active_power  Global_reactive_power   Voltage  \\\n",
       "Global_active_power               1.000000               0.249617 -0.401710   \n",
       "Global_reactive_power             0.249617               1.000000 -0.118007   \n",
       "Voltage                          -0.401710              -0.118007  1.000000   \n",
       "Global_intensity                  0.999020               0.266434 -0.412042   \n",
       "meter                             0.831357               0.176070 -0.362564   \n",
       "\n",
       "                       Global_intensity     meter  \n",
       "Global_active_power            0.999020  0.831357  \n",
       "Global_reactive_power          0.266434  0.176070  \n",
       "Voltage                       -0.412042 -0.362564  \n",
       "Global_intensity               1.000000  0.829410  \n",
       "meter                          0.829410  1.000000  "
      ]
     },
     "execution_count": 53,
     "metadata": {},
     "output_type": "execute_result"
    }
   ],
   "source": [
    "df_sample.corr()"
   ]
  },
  {
   "cell_type": "code",
   "execution_count": 54,
   "metadata": {},
   "outputs": [
    {
     "data": {
      "image/png": "[encoded data removed]",
      "text/plain": [
       "<Figure size 432x288 with 2 Axes>"
      ]
     },
     "metadata": {
      "needs_background": "light"
     },
     "output_type": "display_data"
    }
   ],
   "source": [
    "sns.heatmap(df_sample.corr(), annot=True, cmap=\"RdBu\")\n",
    "plt.show()"
   ]
  },
  {
   "cell_type": "code",
   "execution_count": 55,
   "metadata": {},
   "outputs": [],
   "source": [
    "#Graphical Representation"
   ]
  },
  {
   "cell_type": "code",
   "execution_count": 56,
   "metadata": {},
   "outputs": [
    {
     "data": {
      "image/png": "[encoded data removed]",
      "text/plain": [
       "<Figure size 1296x1080 with 5 Axes>"
      ]
     },
     "metadata": {},
     "output_type": "display_data"
    }
   ],
   "source": [
    "plt.figure(figsize=(18,15),facecolor='white')\n",
    "plotnumber=1\n",
    "for columns in df_sample.columns[:]:\n",
    "    if plotnumber<=5:\n",
    "        ax=plt.subplot(3,2,plotnumber)\n",
    "        sns.distplot(df_sample[columns])\n",
    "        plt.xlabel(columns,fontsize=20)\n",
    "    plotnumber+=1\n",
    "plt.show()"
   ]
  },
  {
   "cell_type": "code",
   "execution_count": 57,
   "metadata": {},
   "outputs": [],
   "source": [
    "#we can see that data is not normally distributed"
   ]
  },
  {
   "cell_type": "code",
   "execution_count": 58,
   "metadata": {},
   "outputs": [
    {
     "name": "stdout",
     "output_type": "stream",
     "text": [
      "Kurtosis of normal distribution: 3.695512937912331\n",
      "Skewness of normal distribution: 1.7518866977581877\n",
      "Kurtosis of normal distribution: 2.62045383649391\n",
      "Skewness of normal distribution: 1.2601338663025305\n",
      "Kurtosis of normal distribution: 0.28500394126339\n",
      "Skewness of normal distribution: -0.3576646060327304\n",
      "Kurtosis of normal distribution: 4.028087491518512\n",
      "Skewness of normal distribution: 1.8072516694566274\n"
     ]
    }
   ],
   "source": [
    "from statsmodels.stats import weightstats\n",
    "import scipy.stats as stats\n",
    "#sns.displot(df_sample.Global_active_power)\n",
    "print('Kurtosis of normal distribution: {}'.format(stats.kurtosis(df_sample.Global_active_power)))\n",
    "print('Skewness of normal distribution: {}'.format(stats.skew(df_sample.Global_active_power)))\n",
    "print('Kurtosis of normal distribution: {}'.format(stats.kurtosis(df_sample.Global_reactive_power)))\n",
    "print('Skewness of normal distribution: {}'.format(stats.skew(df_sample.Global_reactive_power)))\n",
    "print('Kurtosis of normal distribution: {}'.format(stats.kurtosis(df_sample.Voltage)))\n",
    "print('Skewness of normal distribution: {}'.format(stats.skew(df_sample.Voltage)))\n",
    "print('Kurtosis of normal distribution: {}'.format(stats.kurtosis(df_sample.Global_intensity)))\n",
    "print('Skewness of normal distribution: {}'.format(stats.skew(df_sample.Global_intensity)))"
   ]
  },
  {
   "cell_type": "code",
   "execution_count": 59,
   "metadata": {},
   "outputs": [],
   "source": [
    "b={'Feature':['Global_active_power','Global_reactive_power','Voltage','Global_intensity'],'Skewness value':[4.284625114582224,2.4572228719791944,0.6911557630615857,4.670070085507305],'Decision_1':['positively skewed','positively skewed','symmetric','positively skewed'],'Kurtosis value':[1.7857248034308675,1.2449727682210145,-0.32968135466811055,1.8500078554480717\n",
    "],'Decision_2':['leptokurtic','leptokurtic','mesokurtic','leptokurtic']}"
   ]
  },
  {
   "cell_type": "code",
   "execution_count": 60,
   "metadata": {},
   "outputs": [],
   "source": [
    "df2=pd.DataFrame(b)"
   ]
  },
  {
   "cell_type": "code",
   "execution_count": 61,
   "metadata": {},
   "outputs": [
    {
     "data": {
      "text/html": [
       "<div>\n",
       "<style scoped>\n",
       "    .dataframe tbody tr th:only-of-type {\n",
       "        vertical-align: middle;\n",
       "    }\n",
       "\n",
       "    .dataframe tbody tr th {\n",
       "        vertical-align: top;\n",
       "    }\n",
       "\n",
       "    .dataframe thead th {\n",
       "        text-align: right;\n",
       "    }\n",
       "</style>\n",
       "<table border=\"1\" class=\"dataframe\">\n",
       "  <thead>\n",
       "    <tr style=\"text-align: right;\">\n",
       "      <th></th>\n",
       "      <th>Feature</th>\n",
       "      <th>Skewness value</th>\n",
       "      <th>Decision_1</th>\n",
       "      <th>Kurtosis value</th>\n",
       "      <th>Decision_2</th>\n",
       "    </tr>\n",
       "  </thead>\n",
       "  <tbody>\n",
       "    <tr>\n",
       "      <th>0</th>\n",
       "      <td>Global_active_power</td>\n",
       "      <td>4.284625</td>\n",
       "      <td>positively skewed</td>\n",
       "      <td>1.785725</td>\n",
       "      <td>leptokurtic</td>\n",
       "    </tr>\n",
       "    <tr>\n",
       "      <th>1</th>\n",
       "      <td>Global_reactive_power</td>\n",
       "      <td>2.457223</td>\n",
       "      <td>positively skewed</td>\n",
       "      <td>1.244973</td>\n",
       "      <td>leptokurtic</td>\n",
       "    </tr>\n",
       "    <tr>\n",
       "      <th>2</th>\n",
       "      <td>Voltage</td>\n",
       "      <td>0.691156</td>\n",
       "      <td>symmetric</td>\n",
       "      <td>-0.329681</td>\n",
       "      <td>mesokurtic</td>\n",
       "    </tr>\n",
       "    <tr>\n",
       "      <th>3</th>\n",
       "      <td>Global_intensity</td>\n",
       "      <td>4.670070</td>\n",
       "      <td>positively skewed</td>\n",
       "      <td>1.850008</td>\n",
       "      <td>leptokurtic</td>\n",
       "    </tr>\n",
       "  </tbody>\n",
       "</table>\n",
       "</div>"
      ],
      "text/plain": [
       "                 Feature  Skewness value         Decision_1  Kurtosis value  \\\n",
       "0    Global_active_power        4.284625  positively skewed        1.785725   \n",
       "1  Global_reactive_power        2.457223  positively skewed        1.244973   \n",
       "2                Voltage        0.691156          symmetric       -0.329681   \n",
       "3       Global_intensity        4.670070  positively skewed        1.850008   \n",
       "\n",
       "    Decision_2  \n",
       "0  leptokurtic  \n",
       "1  leptokurtic  \n",
       "2   mesokurtic  \n",
       "3  leptokurtic  "
      ]
     },
     "execution_count": 61,
     "metadata": {},
     "output_type": "execute_result"
    }
   ],
   "source": [
    "df2"
   ]
  },
  {
   "cell_type": "markdown",
   "metadata": {},
   "source": [
    "Condition for Z-test\n",
    "Random samples\n",
    "\n",
    "Each obsesrvation should be independant of other\n",
    "\n",
    "sampling with replacement\n",
    "\n",
    "If the sampling without replacement, sample size should not be more than 10%\n",
    "Sampling distribution approximates normal distribution\n",
    "\n",
    "Population is normally distributed and population standard deviation is known or sample size >= 30\n",
    "One Sample Z Test\n",
    "Has the mean chnged\n",
    "\n",
    "H0 mean=150\n",
    "\n",
    "H1 mean != 150\n",
    "\n",
    "0.3 < 0.05\n",
    "\n",
    "if (p <0.05) then\n",
    "\n",
    "    reject null\n",
    "else:\n",
    "\n",
    "    accept null\n",
    "#####################\n",
    "\n",
    "mean higher 0.6515 > 1.645\n",
    "\n",
    "if test > 1.645:\n",
    "reject null\n",
    "else:\n",
    "\n",
    "    accept null\n",
    "#####################\n",
    "\n",
    "mean lower\n",
    "\n",
    "if test < -1.645:\n",
    "\n",
    "     reject null\n",
    "else:\n",
    "\n",
    "    accept null\n",
    "#####################\n",
    "\n",
    "Two tail test\n",
    "\n",
    "if test < -1.96 or test > 1.96:\n",
    "\n",
    "     reject null\n",
    "else:\n",
    "\n",
    "    accept null\n",
    "\n",
    "     "
   ]
  },
  {
   "cell_type": "code",
   "execution_count": 62,
   "metadata": {},
   "outputs": [
    {
     "data": {
      "text/plain": [
       "239.94435194325138"
      ]
     },
     "execution_count": 62,
     "metadata": {},
     "output_type": "execute_result"
    }
   ],
   "source": [
    "df_sample['Voltage'].mean()\n"
   ]
  },
  {
   "cell_type": "code",
   "execution_count": 63,
   "metadata": {},
   "outputs": [
    {
     "data": {
      "text/plain": [
       "(70.18913970153741, 0.0)"
      ]
     },
     "execution_count": 63,
     "metadata": {},
     "output_type": "execute_result"
    }
   ],
   "source": [
    "weightstats.ztest(df_sample['Voltage'], value=239)\n"
   ]
  },
  {
   "cell_type": "code",
   "execution_count": 64,
   "metadata": {},
   "outputs": [
    {
     "name": "stdout",
     "output_type": "stream",
     "text": [
      "Reject\n"
     ]
    }
   ],
   "source": [
    "if 0.0< 0.05:\n",
    "    print(\"Reject\")\n",
    "else:\n",
    "    print(\"accept\")"
   ]
  },
  {
   "cell_type": "code",
   "execution_count": 65,
   "metadata": {},
   "outputs": [
    {
     "data": {
      "text/plain": [
       "1.1174584330193855"
      ]
     },
     "execution_count": 65,
     "metadata": {},
     "output_type": "execute_result"
    }
   ],
   "source": [
    "df_sample['Global_active_power'].mean()\n"
   ]
  },
  {
   "cell_type": "code",
   "execution_count": 66,
   "metadata": {},
   "outputs": [
    {
     "data": {
      "text/plain": [
       "(1.3870648013349618, 0.16542200390596984)"
      ]
     },
     "execution_count": 66,
     "metadata": {},
     "output_type": "execute_result"
    }
   ],
   "source": [
    "weightstats.ztest(df_sample['Global_active_power'], value=1.111)\n"
   ]
  },
  {
   "cell_type": "code",
   "execution_count": 67,
   "metadata": {},
   "outputs": [
    {
     "name": "stdout",
     "output_type": "stream",
     "text": [
      "accept\n"
     ]
    }
   ],
   "source": [
    "if 0.9546< 0.05:\n",
    "    print(\"Reject\")\n",
    "else:\n",
    "    print(\"accept\")"
   ]
  },
  {
   "cell_type": "code",
   "execution_count": 68,
   "metadata": {},
   "outputs": [
    {
     "data": {
      "text/plain": [
       "0.1189603988556317"
      ]
     },
     "execution_count": 68,
     "metadata": {},
     "output_type": "execute_result"
    }
   ],
   "source": [
    "df_sample['Global_reactive_power'].mean()\n"
   ]
  },
  {
   "cell_type": "code",
   "execution_count": 69,
   "metadata": {},
   "outputs": [
    {
     "data": {
      "text/plain": [
       "(2.136809832086071, 0.03261346211692996)"
      ]
     },
     "execution_count": 69,
     "metadata": {},
     "output_type": "execute_result"
    }
   ],
   "source": [
    "weightstats.ztest(df_sample['Global_reactive_power'], value=0.118)"
   ]
  },
  {
   "cell_type": "code",
   "execution_count": 70,
   "metadata": {},
   "outputs": [
    {
     "name": "stdout",
     "output_type": "stream",
     "text": [
      "accept\n"
     ]
    }
   ],
   "source": [
    "if 0.46< 0.05:\n",
    "    print(\"Reject\")\n",
    "else:\n",
    "    print(\"accept\")"
   ]
  },
  {
   "cell_type": "code",
   "execution_count": 71,
   "metadata": {},
   "outputs": [],
   "source": [
    "a={'Z-calculated':[137.80089190887304,-0.0019157232890736617,0.11002692080627972,-0.0019379879734255576],'P-Value':[0.0,0.9984714748998245,0.9123880248111312,0.9984537102849074],'Decision':['reject','accept','accept','accept']}"
   ]
  },
  {
   "cell_type": "code",
   "execution_count": 72,
   "metadata": {},
   "outputs": [
    {
     "data": {
      "text/html": [
       "<div>\n",
       "<style scoped>\n",
       "    .dataframe tbody tr th:only-of-type {\n",
       "        vertical-align: middle;\n",
       "    }\n",
       "\n",
       "    .dataframe tbody tr th {\n",
       "        vertical-align: top;\n",
       "    }\n",
       "\n",
       "    .dataframe thead th {\n",
       "        text-align: right;\n",
       "    }\n",
       "</style>\n",
       "<table border=\"1\" class=\"dataframe\">\n",
       "  <thead>\n",
       "    <tr style=\"text-align: right;\">\n",
       "      <th></th>\n",
       "      <th>Z-calculated</th>\n",
       "      <th>P-Value</th>\n",
       "      <th>Decision</th>\n",
       "    </tr>\n",
       "  </thead>\n",
       "  <tbody>\n",
       "    <tr>\n",
       "      <th>0</th>\n",
       "      <td>137.800892</td>\n",
       "      <td>0.000000</td>\n",
       "      <td>reject</td>\n",
       "    </tr>\n",
       "    <tr>\n",
       "      <th>1</th>\n",
       "      <td>-0.001916</td>\n",
       "      <td>0.998471</td>\n",
       "      <td>accept</td>\n",
       "    </tr>\n",
       "    <tr>\n",
       "      <th>2</th>\n",
       "      <td>0.110027</td>\n",
       "      <td>0.912388</td>\n",
       "      <td>accept</td>\n",
       "    </tr>\n",
       "    <tr>\n",
       "      <th>3</th>\n",
       "      <td>-0.001938</td>\n",
       "      <td>0.998454</td>\n",
       "      <td>accept</td>\n",
       "    </tr>\n",
       "  </tbody>\n",
       "</table>\n",
       "</div>"
      ],
      "text/plain": [
       "   Z-calculated   P-Value Decision\n",
       "0    137.800892  0.000000   reject\n",
       "1     -0.001916  0.998471   accept\n",
       "2      0.110027  0.912388   accept\n",
       "3     -0.001938  0.998454   accept"
      ]
     },
     "execution_count": 72,
     "metadata": {},
     "output_type": "execute_result"
    }
   ],
   "source": [
    "df3=pd.DataFrame(a)\n",
    "df3"
   ]
  },
  {
   "cell_type": "markdown",
   "metadata": {},
   "source": [
    "# check the outliers"
   ]
  },
  {
   "cell_type": "code",
   "execution_count": 73,
   "metadata": {},
   "outputs": [
    {
     "data": {
      "image/png": "[encoded data removed]",
      "text/plain": [
       "<Figure size 1080x1440 with 5 Axes>"
      ]
     },
     "metadata": {},
     "output_type": "display_data"
    }
   ],
   "source": [
    "plt.figure(figsize=(15,20),facecolor='white')\n",
    "plt.suptitle(\"Boxplot of all features\",fontweight='bold',fontsize=20,y=0.989)\n",
    "for i in range(0,len(df_sample.columns)):\n",
    "    plt.subplot(5,3,i+1)\n",
    "    sns.boxplot(x=df_sample.columns[i],data=df_sample)\n",
    "    plt.xlabel(\"Boxplot of {}\".format(df_sample.columns[i]),fontsize=15)\n",
    "    plt.tight_layout()\n"
   ]
  },
  {
   "cell_type": "code",
   "execution_count": 74,
   "metadata": {},
   "outputs": [],
   "source": [
    "#handlings the outliers\n",
    "df1=df_sample.copy()\n"
   ]
  },
  {
   "cell_type": "code",
   "execution_count": 75,
   "metadata": {},
   "outputs": [
    {
     "data": {
      "image/png": "[encoded data removed]",
      "text/plain": [
       "<Figure size 1008x288 with 2 Axes>"
      ]
     },
     "metadata": {
      "needs_background": "light"
     },
     "output_type": "display_data"
    },
    {
     "data": {
      "image/png": "[encoded data removed]",
      "text/plain": [
       "<Figure size 1008x288 with 2 Axes>"
      ]
     },
     "metadata": {
      "needs_background": "light"
     },
     "output_type": "display_data"
    },
    {
     "data": {
      "image/png": "[encoded data removed]",
      "text/plain": [
       "<Figure size 1008x288 with 2 Axes>"
      ]
     },
     "metadata": {
      "needs_background": "light"
     },
     "output_type": "display_data"
    },
    {
     "data": {
      "image/png": "[encoded data removed]",
      "text/plain": [
       "<Figure size 1008x288 with 2 Axes>"
      ]
     },
     "metadata": {
      "needs_background": "light"
     },
     "output_type": "display_data"
    },
    {
     "data": {
      "image/png": "[encoded data removed]",
      "text/plain": [
       "<Figure size 1008x288 with 2 Axes>"
      ]
     },
     "metadata": {
      "needs_background": "light"
     },
     "output_type": "display_data"
    }
   ],
   "source": [
    "df1\n",
    "feature_to_use=df1.columns\n",
    "\n",
    "for i in range(len(feature_to_use)):\n",
    "    IQR=df1[feature_to_use[i]].quantile(0.75)-df1[feature_to_use[i]].quantile(0.25)\n",
    "    Lower_Limit=df1[feature_to_use[i]].quantile(0.25)-(1.5*IQR)\n",
    "    Upper_Limit=df1[feature_to_use[i]].quantile(0.75)+(1.5*IQR) \n",
    "    df1[feature_to_use[i]]=np.where(df1[feature_to_use[i]]> Upper_Limit,Upper_Limit,np.where(df1[feature_to_use[i]]<Lower_Limit,Lower_Limit,df1[feature_to_use[i]]))\n",
    "for a in feature_to_use:\n",
    "    plt.figure(figsize=(14,4))\n",
    "    plt.subplot(121)\n",
    "    sns.boxplot(x=a,data=df_sample)\n",
    "    plt.title(\"Boxplot of {} before handling outliers\".format(a),fontweight='bold')\n",
    "    \n",
    "    plt.subplot(122)\n",
    "    sns.boxplot(x=a,data=df1)\n",
    "    plt.title(\"Boxplot of {} after handling outliers\".format(a),fontweight='bold')\n",
    "    plt.show()\n"
   ]
  },
  {
   "cell_type": "code",
   "execution_count": 76,
   "metadata": {},
   "outputs": [],
   "source": [
    "#The benefit of removing outliers is to enhance the accuracy \n",
    "#and stability of statistical models and ML algorithms by reducing their impact on results. \n",
    "#Outliers can distort statistical analyses and skew results as they are extreme values that differ from the rest of the data. \n",
    "#Removing outliers makes the results more robust and accurate by eliminating their influence and \n",
    "#.reduces overfitting in ML algorithms by avoiding fitting to extreme values instead of the underlying data pattern."
   ]
  },
  {
   "cell_type": "markdown",
   "metadata": {},
   "source": [
    "The train-test split is a technique for evaluating the performance of a machine learning algorithm.\n",
    "\n",
    "It can be used for classification or regression problems and can be used for any supervised learning algorithm.\n",
    "\n",
    "The procedure involves taking a dataset and dividing it into two subsets. The first subset is used to fit the model and is referred to as the training dataset. The second subset is not used to train the model; instead, the input element of the dataset is provided to the model, then predictions are made and compared to the expected values. This second dataset is referred to as the test dataset.\n",
    "\n",
    "Train Dataset: Used to fit the machine learning model.\n",
    "Test Dataset: Used to evaluate the fit machine learning model.\n",
    "The objective is to estimate the performance of the machine learning model on new data: data not used to train the model.\n",
    "Standardization makes all variables contribute equally. SVM kernel methods are based on distance so it is required to scale variable prior to running the final SVM model. It is necessary to standardize variables before using lasso and ridge regression\n",
    "The main uses of regression analysis are forecasting, time series modeling and finding the cause and effect relationship between variables.A regression model provides a function that describes the relationship between one or more independent variables and a response, dependent, or target variable.A linear regression is a model where the relationship between inputs and outputs is a straight line. This is the easiest to conceptualize and even observe in the real world. Even when a relationship isn’t very linear, our brains try to see the pattern and attach a rudimentary linear model to that relationship\n",
    "Ridge regression is a model tuning method that is used to analyse any data that suffers from multicollinearity.\n",
    "Lasso regression is a regularisation technique. It is used over regression methods for more accurate prediction"
   ]
  },
  {
   "cell_type": "code",
   "execution_count": 77,
   "metadata": {},
   "outputs": [
    {
     "data": {
      "text/html": [
       "<div>\n",
       "<style scoped>\n",
       "    .dataframe tbody tr th:only-of-type {\n",
       "        vertical-align: middle;\n",
       "    }\n",
       "\n",
       "    .dataframe tbody tr th {\n",
       "        vertical-align: top;\n",
       "    }\n",
       "\n",
       "    .dataframe thead th {\n",
       "        text-align: right;\n",
       "    }\n",
       "</style>\n",
       "<table border=\"1\" class=\"dataframe\">\n",
       "  <thead>\n",
       "    <tr style=\"text-align: right;\">\n",
       "      <th></th>\n",
       "      <th>Global_active_power</th>\n",
       "      <th>Global_reactive_power</th>\n",
       "      <th>Voltage</th>\n",
       "      <th>Global_intensity</th>\n",
       "    </tr>\n",
       "  </thead>\n",
       "  <tbody>\n",
       "    <tr>\n",
       "      <th>838624</th>\n",
       "      <td>0.238</td>\n",
       "      <td>0.094</td>\n",
       "      <td>238.85</td>\n",
       "      <td>1.0</td>\n",
       "    </tr>\n",
       "    <tr>\n",
       "      <th>123524</th>\n",
       "      <td>2.010</td>\n",
       "      <td>0.234</td>\n",
       "      <td>236.94</td>\n",
       "      <td>8.6</td>\n",
       "    </tr>\n",
       "    <tr>\n",
       "      <th>384105</th>\n",
       "      <td>0.220</td>\n",
       "      <td>0.050</td>\n",
       "      <td>239.87</td>\n",
       "      <td>1.0</td>\n",
       "    </tr>\n",
       "    <tr>\n",
       "      <th>339343</th>\n",
       "      <td>1.414</td>\n",
       "      <td>0.098</td>\n",
       "      <td>234.60</td>\n",
       "      <td>6.0</td>\n",
       "    </tr>\n",
       "    <tr>\n",
       "      <th>23196</th>\n",
       "      <td>0.440</td>\n",
       "      <td>0.126</td>\n",
       "      <td>237.91</td>\n",
       "      <td>1.8</td>\n",
       "    </tr>\n",
       "    <tr>\n",
       "      <th>...</th>\n",
       "      <td>...</td>\n",
       "      <td>...</td>\n",
       "      <td>...</td>\n",
       "      <td>...</td>\n",
       "    </tr>\n",
       "    <tr>\n",
       "      <th>175162</th>\n",
       "      <td>1.380</td>\n",
       "      <td>0.202</td>\n",
       "      <td>237.29</td>\n",
       "      <td>5.8</td>\n",
       "    </tr>\n",
       "    <tr>\n",
       "      <th>509640</th>\n",
       "      <td>0.514</td>\n",
       "      <td>0.000</td>\n",
       "      <td>245.96</td>\n",
       "      <td>2.2</td>\n",
       "    </tr>\n",
       "    <tr>\n",
       "      <th>118459</th>\n",
       "      <td>0.478</td>\n",
       "      <td>0.340</td>\n",
       "      <td>244.10</td>\n",
       "      <td>2.4</td>\n",
       "    </tr>\n",
       "    <tr>\n",
       "      <th>906667</th>\n",
       "      <td>2.422</td>\n",
       "      <td>0.212</td>\n",
       "      <td>240.03</td>\n",
       "      <td>11.0</td>\n",
       "    </tr>\n",
       "    <tr>\n",
       "      <th>681099</th>\n",
       "      <td>0.364</td>\n",
       "      <td>0.074</td>\n",
       "      <td>238.00</td>\n",
       "      <td>1.6</td>\n",
       "    </tr>\n",
       "  </tbody>\n",
       "</table>\n",
       "<p>59771 rows × 4 columns</p>\n",
       "</div>"
      ],
      "text/plain": [
       "        Global_active_power  Global_reactive_power  Voltage  Global_intensity\n",
       "838624                0.238                  0.094   238.85               1.0\n",
       "123524                2.010                  0.234   236.94               8.6\n",
       "384105                0.220                  0.050   239.87               1.0\n",
       "339343                1.414                  0.098   234.60               6.0\n",
       "23196                 0.440                  0.126   237.91               1.8\n",
       "...                     ...                    ...      ...               ...\n",
       "175162                1.380                  0.202   237.29               5.8\n",
       "509640                0.514                  0.000   245.96               2.2\n",
       "118459                0.478                  0.340   244.10               2.4\n",
       "906667                2.422                  0.212   240.03              11.0\n",
       "681099                0.364                  0.074   238.00               1.6\n",
       "\n",
       "[59771 rows x 4 columns]"
      ]
     },
     "execution_count": 77,
     "metadata": {},
     "output_type": "execute_result"
    }
   ],
   "source": [
    "x=df_sample.iloc[:,:-1]\n",
    "x\n"
   ]
  },
  {
   "cell_type": "code",
   "execution_count": 78,
   "metadata": {},
   "outputs": [
    {
     "data": {
      "text/plain": [
       "838624     3.0\n",
       "123524    19.0\n",
       "384105     0.0\n",
       "339343    17.0\n",
       "23196      1.0\n",
       "          ... \n",
       "175162    18.0\n",
       "509640     0.0\n",
       "118459     1.0\n",
       "906667    34.0\n",
       "681099     3.0\n",
       "Name: meter, Length: 59771, dtype: float64"
      ]
     },
     "execution_count": 78,
     "metadata": {},
     "output_type": "execute_result"
    }
   ],
   "source": [
    "y=df_sample['meter']\n",
    "y"
   ]
  },
  {
   "cell_type": "code",
   "execution_count": 79,
   "metadata": {},
   "outputs": [
    {
     "data": {
      "text/plain": [
       "((59771, 4), (59771,))"
      ]
     },
     "execution_count": 79,
     "metadata": {},
     "output_type": "execute_result"
    }
   ],
   "source": [
    "x.shape,y.shape"
   ]
  },
  {
   "cell_type": "markdown",
   "metadata": {},
   "source": [
    "Train Test Split"
   ]
  },
  {
   "cell_type": "code",
   "execution_count": 80,
   "metadata": {},
   "outputs": [],
   "source": [
    "x_train,x_test,y_train,y_test=train_test_split(x,y,test_size=0.33,random_state=42)"
   ]
  },
  {
   "cell_type": "code",
   "execution_count": 81,
   "metadata": {},
   "outputs": [
    {
     "data": {
      "text/plain": [
       "((40046, 4), (40046,))"
      ]
     },
     "execution_count": 81,
     "metadata": {},
     "output_type": "execute_result"
    }
   ],
   "source": [
    "x_train.shape,y_train.shape"
   ]
  },
  {
   "cell_type": "code",
   "execution_count": 82,
   "metadata": {},
   "outputs": [
    {
     "data": {
      "text/plain": [
       "((19725, 4), (19725,))"
      ]
     },
     "execution_count": 82,
     "metadata": {},
     "output_type": "execute_result"
    }
   ],
   "source": [
    "x_test.shape,y_test.shape"
   ]
  },
  {
   "cell_type": "markdown",
   "metadata": {},
   "source": [
    "Standardization"
   ]
  },
  {
   "cell_type": "code",
   "execution_count": 83,
   "metadata": {},
   "outputs": [],
   "source": [
    "scaler=StandardScaler()\n",
    "x_train=scaler.fit_transform(x_train)\n",
    "x_test=scaler.fit_transform(x_test)"
   ]
  },
  {
   "cell_type": "markdown",
   "metadata": {},
   "source": [
    "Model Building"
   ]
  },
  {
   "cell_type": "code",
   "execution_count": 84,
   "metadata": {},
   "outputs": [],
   "source": [
    "report=[]"
   ]
  },
  {
   "cell_type": "code",
   "execution_count": 85,
   "metadata": {},
   "outputs": [],
   "source": [
    "from sklearn.tree import DecisionTreeRegressor\n",
    "from sklearn.metrics import mean_squared_error\n",
    "from sklearn.metrics import mean_absolute_error\n",
    "from sklearn.metrics import r2_score"
   ]
  },
  {
   "cell_type": "code",
   "execution_count": 86,
   "metadata": {},
   "outputs": [
    {
     "data": {
      "text/html": [
       "<div>\n",
       "<style scoped>\n",
       "    .dataframe tbody tr th:only-of-type {\n",
       "        vertical-align: middle;\n",
       "    }\n",
       "\n",
       "    .dataframe tbody tr th {\n",
       "        vertical-align: top;\n",
       "    }\n",
       "\n",
       "    .dataframe thead th {\n",
       "        text-align: right;\n",
       "    }\n",
       "</style>\n",
       "<table border=\"1\" class=\"dataframe\">\n",
       "  <thead>\n",
       "    <tr style=\"text-align: right;\">\n",
       "      <th></th>\n",
       "      <th>model</th>\n",
       "      <th>Train Mean Squared Error</th>\n",
       "      <th>Test Mean Squared Error</th>\n",
       "      <th>Train Mean Absolute Error</th>\n",
       "      <th>Test Mean Absolute Error</th>\n",
       "      <th>Train R Square</th>\n",
       "      <th>Test R Square</th>\n",
       "      <th>Train Adj R Square</th>\n",
       "      <th>Test Adj R Square</th>\n",
       "    </tr>\n",
       "  </thead>\n",
       "  <tbody>\n",
       "    <tr>\n",
       "      <th>0</th>\n",
       "      <td>Linear Regression</td>\n",
       "      <td>55.041513</td>\n",
       "      <td>54.883310</td>\n",
       "      <td>4.568496</td>\n",
       "      <td>4.599670</td>\n",
       "      <td>0.690635</td>\n",
       "      <td>0.699808</td>\n",
       "      <td>0.690612</td>\n",
       "      <td>0.699763</td>\n",
       "    </tr>\n",
       "    <tr>\n",
       "      <th>1</th>\n",
       "      <td>Ridge Regression</td>\n",
       "      <td>55.041785</td>\n",
       "      <td>54.884295</td>\n",
       "      <td>4.568967</td>\n",
       "      <td>4.600076</td>\n",
       "      <td>0.690634</td>\n",
       "      <td>0.699803</td>\n",
       "      <td>0.690611</td>\n",
       "      <td>0.699757</td>\n",
       "    </tr>\n",
       "    <tr>\n",
       "      <th>2</th>\n",
       "      <td>Lasso Regression</td>\n",
       "      <td>56.492330</td>\n",
       "      <td>56.850342</td>\n",
       "      <td>4.776770</td>\n",
       "      <td>4.818225</td>\n",
       "      <td>0.682481</td>\n",
       "      <td>0.689049</td>\n",
       "      <td>0.682457</td>\n",
       "      <td>0.689002</td>\n",
       "    </tr>\n",
       "    <tr>\n",
       "      <th>3</th>\n",
       "      <td>Support Vector Regression</td>\n",
       "      <td>52.864316</td>\n",
       "      <td>54.182785</td>\n",
       "      <td>3.498524</td>\n",
       "      <td>3.565477</td>\n",
       "      <td>0.702872</td>\n",
       "      <td>0.703640</td>\n",
       "      <td>0.702850</td>\n",
       "      <td>0.703595</td>\n",
       "    </tr>\n",
       "    <tr>\n",
       "      <th>4</th>\n",
       "      <td>Decision Tree Regressor</td>\n",
       "      <td>0.001396</td>\n",
       "      <td>84.934062</td>\n",
       "      <td>0.002343</td>\n",
       "      <td>3.993861</td>\n",
       "      <td>0.999992</td>\n",
       "      <td>0.535442</td>\n",
       "      <td>0.999992</td>\n",
       "      <td>0.535371</td>\n",
       "    </tr>\n",
       "    <tr>\n",
       "      <th>5</th>\n",
       "      <td>Random Forest Regressor</td>\n",
       "      <td>6.435937</td>\n",
       "      <td>45.611354</td>\n",
       "      <td>1.230292</td>\n",
       "      <td>3.381156</td>\n",
       "      <td>0.963826</td>\n",
       "      <td>0.750522</td>\n",
       "      <td>0.963824</td>\n",
       "      <td>0.750485</td>\n",
       "    </tr>\n",
       "  </tbody>\n",
       "</table>\n",
       "</div>"
      ],
      "text/plain": [
       "                       model  Train Mean Squared Error  \\\n",
       "0          Linear Regression                 55.041513   \n",
       "1           Ridge Regression                 55.041785   \n",
       "2           Lasso Regression                 56.492330   \n",
       "3  Support Vector Regression                 52.864316   \n",
       "4    Decision Tree Regressor                  0.001396   \n",
       "5    Random Forest Regressor                  6.435937   \n",
       "\n",
       "   Test Mean Squared Error  Train Mean Absolute Error  \\\n",
       "0                54.883310                   4.568496   \n",
       "1                54.884295                   4.568967   \n",
       "2                56.850342                   4.776770   \n",
       "3                54.182785                   3.498524   \n",
       "4                84.934062                   0.002343   \n",
       "5                45.611354                   1.230292   \n",
       "\n",
       "   Test Mean Absolute Error  Train R Square  Test R Square  \\\n",
       "0                  4.599670        0.690635       0.699808   \n",
       "1                  4.600076        0.690634       0.699803   \n",
       "2                  4.818225        0.682481       0.689049   \n",
       "3                  3.565477        0.702872       0.703640   \n",
       "4                  3.993861        0.999992       0.535442   \n",
       "5                  3.381156        0.963826       0.750522   \n",
       "\n",
       "   Train Adj R Square  Test Adj R Square  \n",
       "0            0.690612           0.699763  \n",
       "1            0.690611           0.699757  \n",
       "2            0.682457           0.689002  \n",
       "3            0.702850           0.703595  \n",
       "4            0.999992           0.535371  \n",
       "5            0.963824           0.750485  "
      ]
     },
     "execution_count": 86,
     "metadata": {},
     "output_type": "execute_result"
    }
   ],
   "source": [
    "models={\n",
    "    'Linear Regression': LinearRegression(),\n",
    "    'Ridge Regression':Ridge(),\n",
    "    'Lasso Regression':Lasso(),\n",
    "    'Support Vector Regression':SVR(),\n",
    "    'Decision Tree Regressor':DecisionTreeRegressor(),\n",
    "    'Random Forest Regressor':RandomForestRegressor()\n",
    "    \n",
    "}\n",
    "for i in range(len(list(models))):\n",
    "    model=list(models.values())[i]\n",
    "    model.fit(x_train,y_train)#training models\n",
    "    \n",
    "    #predictions\n",
    "    y_train_pred=model.predict(x_train)\n",
    "    y_test_pred=model.predict(x_test)\n",
    "    \n",
    "    #training data performance matrix\n",
    "    model_train_mse=mean_squared_error(y_train,y_train_pred)  #calculate MSE\n",
    "    model_train_mae=mean_absolute_error(y_train,y_train_pred) #calculate MAE\n",
    "    model_train_r2=r2_score(y_train,y_train_pred)             #calculate 2 square\n",
    "    model_train_ad_r2=1-(1-model_train_r2)*(len(y_train)-1)/(len(y_train)-x_train.shape[1])\n",
    "                                                          \n",
    "    #testing data performance matrix\n",
    "    model_test_mse=mean_squared_error(y_test,y_test_pred)  #calculate MSE\n",
    "    model_test_mae=mean_absolute_error(y_test,y_test_pred) #calculate MAE\n",
    "    model_test_r2=r2_score(y_test,y_test_pred)             #calculate 2 square\n",
    "    model_test_ad_r2=1-(1-model_test_r2)*(len(y_test)-1)/(len(y_test)-x_test.shape[1])\n",
    "    report.append({\n",
    "                   \"model\" : (list(models.keys()))[i],\n",
    "                   'Train Mean Squared Error': model_train_mse,\n",
    "                   'Test Mean Squared Error' : model_test_mse,\n",
    "                   'Train Mean Absolute Error' : model_train_mae,\n",
    "                   'Test Mean Absolute Error': model_test_mae,\n",
    "                   'Train R Square':model_train_r2,\n",
    "                   'Test R Square':model_test_r2,\n",
    "                   'Train Adj R Square':model_train_ad_r2,\n",
    "                   'Test Adj R Square':model_test_ad_r2\n",
    "    })                                            \n",
    "    \n",
    "                                                          \n",
    "                            \n",
    "all_model=pd.DataFrame(report)    \n",
    "all_model                                                      \n",
    "   "
   ]
  },
  {
   "cell_type": "code",
   "execution_count": null,
   "metadata": {},
   "outputs": [],
   "source": []
  },
  {
   "cell_type": "code",
   "execution_count": null,
   "metadata": {},
   "outputs": [],
   "source": []
  },
  {
   "cell_type": "code",
   "execution_count": null,
   "metadata": {},
   "outputs": [],
   "source": []
  },
  {
   "cell_type": "code",
   "execution_count": null,
   "metadata": {},
   "outputs": [],
   "source": []
  },
  {
   "cell_type": "code",
   "execution_count": null,
   "metadata": {},
   "outputs": [],
   "source": []
  },
  {
   "cell_type": "code",
   "execution_count": null,
   "metadata": {},
   "outputs": [],
   "source": []
  },
  {
   "cell_type": "code",
   "execution_count": null,
   "metadata": {},
   "outputs": [],
   "source": []
  },
  {
   "cell_type": "code",
   "execution_count": null,
   "metadata": {},
   "outputs": [],
   "source": []
  },
  {
   "cell_type": "code",
   "execution_count": null,
   "metadata": {},
   "outputs": [],
   "source": []
  },
  {
   "cell_type": "code",
   "execution_count": null,
   "metadata": {},
   "outputs": [],
   "source": []
  },
  {
   "cell_type": "code",
   "execution_count": null,
   "metadata": {},
   "outputs": [],
   "source": []
  },
  {
   "cell_type": "code",
   "execution_count": null,
   "metadata": {},
   "outputs": [],
   "source": []
  },
  {
   "cell_type": "code",
   "execution_count": null,
   "metadata": {},
   "outputs": [],
   "source": []
  },
  {
   "cell_type": "code",
   "execution_count": null,
   "metadata": {},
   "outputs": [],
   "source": []
  },
  {
   "cell_type": "code",
   "execution_count": null,
   "metadata": {},
   "outputs": [],
   "source": []
  },
  {
   "cell_type": "code",
   "execution_count": null,
   "metadata": {},
   "outputs": [],
   "source": []
  },
  {
   "cell_type": "code",
   "execution_count": null,
   "metadata": {},
   "outputs": [],
   "source": []
  },
  {
   "cell_type": "code",
   "execution_count": null,
   "metadata": {},
   "outputs": [],
   "source": []
  },
  {
   "cell_type": "code",
   "execution_count": null,
   "metadata": {},
   "outputs": [],
   "source": []
  },
  {
   "cell_type": "code",
   "execution_count": null,
   "metadata": {},
   "outputs": [],
   "source": []
  },
  {
   "cell_type": "code",
   "execution_count": null,
   "metadata": {},
   "outputs": [],
   "source": []
  },
  {
   "cell_type": "code",
   "execution_count": null,
   "metadata": {},
   "outputs": [],
   "source": []
  },
  {
   "cell_type": "code",
   "execution_count": null,
   "metadata": {},
   "outputs": [],
   "source": []
  },
  {
   "cell_type": "code",
   "execution_count": null,
   "metadata": {},
   "outputs": [],
   "source": []
  },
  {
   "cell_type": "code",
   "execution_count": null,
   "metadata": {},
   "outputs": [],
   "source": []
  },
  {
   "cell_type": "code",
   "execution_count": null,
   "metadata": {},
   "outputs": [],
   "source": []
  },
  {
   "cell_type": "code",
   "execution_count": null,
   "metadata": {},
   "outputs": [],
   "source": []
  },
  {
   "cell_type": "code",
   "execution_count": null,
   "metadata": {},
   "outputs": [],
   "source": []
  },
  {
   "cell_type": "code",
   "execution_count": null,
   "metadata": {},
   "outputs": [],
   "source": []
  },
  {
   "cell_type": "code",
   "execution_count": null,
   "metadata": {},
   "outputs": [],
   "source": []
  },
  {
   "cell_type": "code",
   "execution_count": null,
   "metadata": {},
   "outputs": [],
   "source": []
  },
  {
   "cell_type": "code",
   "execution_count": null,
   "metadata": {},
   "outputs": [],
   "source": []
  },
  {
   "cell_type": "code",
   "execution_count": null,
   "metadata": {},
   "outputs": [],
   "source": []
  },
  {
   "cell_type": "code",
   "execution_count": null,
   "metadata": {},
   "outputs": [],
   "source": []
  },
  {
   "cell_type": "code",
   "execution_count": null,
   "metadata": {},
   "outputs": [],
   "source": []
  },
  {
   "cell_type": "code",
   "execution_count": null,
   "metadata": {},
   "outputs": [],
   "source": []
  },
  {
   "cell_type": "code",
   "execution_count": null,
   "metadata": {},
   "outputs": [],
   "source": []
  },
  {
   "cell_type": "code",
   "execution_count": null,
   "metadata": {},
   "outputs": [],
   "source": []
  },
  {
   "cell_type": "code",
   "execution_count": null,
   "metadata": {},
   "outputs": [],
   "source": [
    " report.append({\n",
    "                   \"model\":(list(models.keys()))[i],\n",
    "                   'Train Mean Squared Error':model_train_mse,\n",
    "                   'Test Mean Squared Error':model_test_mse,\n",
    "                   'Train Mean Absolute Error':model_train_mae,\n",
    "                   'Test Mean Absolute Error':model_test_mae,\n",
    "                   'Train R square':model_train_r2,\n",
    "                   'Test R square':model_test_r2,\n",
    "                   'Train Adj R Square':model_train_ad_r2,\n",
    "                   'Test Adj R Square':model_test_ad_r2,\n",
    "     })                                                      \n",
    "all_model=pd.DataFrame(report)    \n",
    "all_model"
   ]
  },
  {
   "cell_type": "code",
   "execution_count": null,
   "metadata": {},
   "outputs": [],
   "source": []
  },
  {
   "cell_type": "markdown",
   "metadata": {},
   "source": [
    "# hyperparameter tunning on random search cv"
   ]
  },
  {
   "cell_type": "code",
   "execution_count": 120,
   "metadata": {},
   "outputs": [],
   "source": [
    "Ran_param={\n",
    "    \"max_depth\":[5,8,15,None,10],\n",
    "    'max_features':[3,'auto'],\n",
    "    'min_samples_split':[2,8,15,20],\n",
    "    'n_estimators':[50,100,200,500]\n",
    "}"
   ]
  },
  {
   "cell_type": "code",
   "execution_count": 121,
   "metadata": {},
   "outputs": [],
   "source": [
    "from sklearn.model_selection import RandomizedSearchCV"
   ]
  },
  {
   "cell_type": "code",
   "execution_count": 122,
   "metadata": {},
   "outputs": [],
   "source": [
    "random = RandomizedSearchCV(estimator = RandomForestRegressor(),\n",
    "                            param_distributions=Ran_param,\n",
    "                            n_iter=100,\n",
    "                            cv=3,\n",
    "                            verbose=2,\n",
    "                            n_jobs=-1)"
   ]
  },
  {
   "cell_type": "code",
   "execution_count": 123,
   "metadata": {},
   "outputs": [],
   "source": [
    "from sklearn import metrics\n",
    "from sklearn.ensemble import RandomForestClassifier\n",
    "\n"
   ]
  },
  {
   "cell_type": "code",
   "execution_count": 124,
   "metadata": {},
   "outputs": [],
   "source": [
    "Params={\"max depth\":[3,None],\n",
    "          \"max_features\":[1,3,10],\n",
    "          \"min_samples_split\":[1,3,10],\n",
    "         \"min_samples_leaf\":[1,3,10]}\n",
    "        \n",
    "        \n"
   ]
  },
  {
   "cell_type": "code",
   "execution_count": 126,
   "metadata": {},
   "outputs": [
    {
     "name": "stdout",
     "output_type": "stream",
     "text": [
      "Fitting 3 folds for each of 100 candidates, totalling 300 fits\n"
     ]
    },
    {
     "name": "stderr",
     "output_type": "stream",
     "text": [
      "[Parallel(n_jobs=-1)]: Using backend LokyBackend with 8 concurrent workers.\n",
      "[Parallel(n_jobs=-1)]: Done  25 tasks      | elapsed:   46.6s\n",
      "[Parallel(n_jobs=-1)]: Done 146 tasks      | elapsed:  5.7min\n",
      "[Parallel(n_jobs=-1)]: Done 300 out of 300 | elapsed: 14.9min finished\n"
     ]
    },
    {
     "data": {
      "text/plain": [
       "RandomizedSearchCV(cv=3, estimator=RandomForestRegressor(), n_iter=100,\n",
       "                   n_jobs=-1,\n",
       "                   param_distributions={'max_depth': [5, 8, 15, None, 10],\n",
       "                                        'max_features': [3, 'auto'],\n",
       "                                        'min_samples_split': [2, 8, 15, 20],\n",
       "                                        'n_estimators': [50, 100, 200, 500]},\n",
       "                   verbose=2)"
      ]
     },
     "execution_count": 126,
     "metadata": {},
     "output_type": "execute_result"
    }
   ],
   "source": [
    "random.fit(x_train,y_train)"
   ]
  },
  {
   "cell_type": "code",
   "execution_count": 131,
   "metadata": {},
   "outputs": [
    {
     "ename": "NameError",
     "evalue": "name 'rf_pred_test' is not defined",
     "output_type": "error",
     "traceback": [
      "\u001b[1;31m---------------------------------------------------------------------------\u001b[0m",
      "\u001b[1;31mNameError\u001b[0m                                 Traceback (most recent call last)",
      "\u001b[1;32m<ipython-input-131-f0c144fec4c2>\u001b[0m in \u001b[0;36m<module>\u001b[1;34m\u001b[0m\n\u001b[0;32m     11\u001b[0m \u001b[1;33m\u001b[0m\u001b[0m\n\u001b[0;32m     12\u001b[0m \u001b[1;31m#test data performance matrix\u001b[0m\u001b[1;33m\u001b[0m\u001b[1;33m\u001b[0m\u001b[1;33m\u001b[0m\u001b[0m\n\u001b[1;32m---> 13\u001b[1;33m \u001b[0mrf_test_mse\u001b[0m\u001b[1;33m=\u001b[0m\u001b[0mmean_squared_error\u001b[0m\u001b[1;33m(\u001b[0m\u001b[0my_test\u001b[0m\u001b[1;33m,\u001b[0m\u001b[0mrf_pred_test\u001b[0m\u001b[1;33m)\u001b[0m  \u001b[1;31m#calculate MSE\u001b[0m\u001b[1;33m\u001b[0m\u001b[1;33m\u001b[0m\u001b[0m\n\u001b[0m\u001b[0;32m     14\u001b[0m \u001b[0mrf_test_mae\u001b[0m\u001b[1;33m=\u001b[0m\u001b[0mmean_absolute_error\u001b[0m\u001b[1;33m(\u001b[0m\u001b[0my_test\u001b[0m\u001b[1;33m,\u001b[0m\u001b[0mrf_pred_test\u001b[0m\u001b[1;33m)\u001b[0m \u001b[1;31m#calculate MAE\u001b[0m\u001b[1;33m\u001b[0m\u001b[1;33m\u001b[0m\u001b[0m\n\u001b[0;32m     15\u001b[0m \u001b[0mrf_test_r2\u001b[0m\u001b[1;33m=\u001b[0m\u001b[0mr2_score\u001b[0m\u001b[1;33m(\u001b[0m\u001b[0my_test\u001b[0m\u001b[1;33m,\u001b[0m\u001b[0mrf_pred_test\u001b[0m\u001b[1;33m)\u001b[0m             \u001b[1;31m#calculate 2 square\u001b[0m\u001b[1;33m\u001b[0m\u001b[1;33m\u001b[0m\u001b[0m\n",
      "\u001b[1;31mNameError\u001b[0m: name 'rf_pred_test' is not defined"
     ]
    }
   ],
   "source": [
    "rf_best_para=RandomForestRegressor(max_depth=10,max_features=3,min_samples_split=20,n_estimators=200)\n",
    "rf_best_para.fit(x_train,y_train)\n",
    "#predictions\n",
    "rf_pred_train=rf_best_para.predict(x_train)\n",
    "rf_test_pred=rf_best_para.predict(x_test)\n",
    "#training data performance matrix\n",
    "rf_train_mse=mean_squared_error(y_train,rf_pred_train)  #calculate MSE\n",
    "rf_train_mae=mean_absolute_error(y_train,rf_pred_train) #calculate MAE\n",
    "rf_train_r2=r2_score(y_train,rf_pred_train)             #calculate 2 square\n",
    "rf_train_ad_r2=1-(1-rf_train_r2)*(len(y_train)-1)/(len(y_train)-x_train.shape[1]-1)\n",
    "\n",
    "#test data performance matrix\n",
    "rf_test_mse=mean_squared_error(y_test,rf_pred_test)  #calculate MSE\n",
    "rf_test_mae=mean_absolute_error(y_test,rf_pred_test) #calculate MAE\n",
    "rf_test_r2=r2_score(y_test,rf_pred_test)             #calculate 2 square\n",
    "rf_test_ad_r2=1-(1-model_test_r2)*(len(y_test)-1)/(len(y_test)-x_test.shape[1]-1)\n",
    "\n",
    "print(\"\\n\")\n",
    "print(\"Hyperparameter tuning on random forest\")\n",
    "print(\"Model Performance For Training Data\")\n",
    "print(\"-Mean Squared Error: (:4f}\".format (rf_train_mse) )\n",
    "print(\"-Mean Absolute Error {.4f}\". format (rf_train_mae))\n",
    "print(\"-R Sqaure : {:.4f}\".format (rf_train_r2))\n",
    "print(\"-Adj R Sqaure:{:.4f}\".format(rf_train_ad_r2))\n",
    "\n",
    "\n",
    "print(\"---------------------------\")\n",
    "\n",
    "print(\"Model Performance For Test Data\")\n",
    "print(\"-Mean Squared Error: (:4f}\".format (rf_test_mse) )\n",
    "print(\"-Mean Absolute Error {.4f}\". format (rf_test_mae))\n",
    "print(\"-R Sqaure : {:.4f}\".format (rf_test_r2))\n",
    "print(\"-Adj R Sqaure:{:.4f}\".format(rf_test_ad_r2))\n",
    "                          "
   ]
  },
  {
   "cell_type": "markdown",
   "metadata": {},
   "source": [
    "# Bagging Regressor"
   ]
  },
  {
   "cell_type": "code",
   "execution_count": 118,
   "metadata": {},
   "outputs": [
    {
     "ename": "SyntaxError",
     "evalue": "invalid syntax (<ipython-input-118-2caa43933af3>, line 18)",
     "output_type": "error",
     "traceback": [
      "\u001b[1;36m  File \u001b[1;32m\"<ipython-input-118-2caa43933af3>\"\u001b[1;36m, line \u001b[1;32m18\u001b[0m\n\u001b[1;33m    bag_test_mse=mean_squared_error(y_test,test_pred_bag)  #calculate MSE\u001b[0m\n\u001b[1;37m    ^\u001b[0m\n\u001b[1;31mSyntaxError\u001b[0m\u001b[1;31m:\u001b[0m invalid syntax\n"
     ]
    }
   ],
   "source": [
    "report2=[]\n",
    "#bagging using decisiontreeRegressor\n",
    "dt_bag=BaggingRegressor(n_estimators=100)\n",
    "#If None,then the base estimator is DecisionTreeRegressor\n",
    "dt_bag.fit(x_train,y_train)\n",
    "\n",
    "#predictions\n",
    "train_pred_bag=dt_bag.predict(x_train)\n",
    "test_pred=dt_bag.predict(x_test)\n",
    "\n",
    "#training data performance matrix\n",
    "bag_train_mse=mean_squared_error(y_train,train_pred_bag)  #calculate MSE\n",
    "bag_train_mae=mean_absolute_error(y_train,train_pred_bag) #calculate MAE\n",
    "bag_train_r2=r2_score(y_train,train_pred_bag)             #calculate 2 square\n",
    "bag_train_ad_r2=1-(1-bag_train*(len(y_train)-1)/(len(y_train)-x_train.shape[1]-1)\n",
    "\n",
    "#test data performance matrix\n",
    "bag_test_mse=mean_squared_error(y_test,test_pred_bag)  #calculate MSE\n",
    "bag_test_mae=mean_absolute_error(y_test,test_pred_bag) #calculate MAE\n",
    "bag_test_r2=r2_score(y_test,test_pred_bag)             #calculate 2 square\n",
    "bag_test_ad_r2=1-(1-bag_test_r2)*(len(y_test)-1)/(len(y_test)-x_test.shape[1]-1)                \n",
    "                \n",
    "\n",
    "#print(\"\\n\")\n",
    "#print(\"bagging regressor\")\n",
    "#print(\"Model Performance For Training Data\")\n",
    "#print(\"-Mean Squared Error: (:4f}\".format (rf_train_mse) )\n",
    "#print(\"-Mean Absolute Error {.4f}\". format (rf_train_mae))\n",
    "#print(\"-R Sqaure : {:.4f}\".format (rf_train_r2))\n",
    "#print(\"-Adj R Sqaure:{:.4f}\".format(rf_train_ad_r2))\n",
    "\n",
    "\n",
    "#print(\"---------------------------\")\n",
    "\n",
    "#print(\"Model Performance For Test Data\")\n",
    "#print(\"-Mean Squared Error: (:4f}\".format (rf_test_mse) )\n",
    "#print(\"-Mean Absolute Error {.4f}\". format (rf_test_mae))\n",
    "#print(\"-R Sqaure : {:.4f}\".format (rf_test_r2))\n",
    "#print(\"-Adj R Sqaure:{:.4f}\".format(rf_test_ad_r2))\n",
    "\n",
    "report2.append({\n",
    "             \"model\":\"bagging Regressor\",\n",
    "             'Train Mean Squared Error':bag_train_mse,\n",
    "             'Test Mean Squared Error':bag_test_mse,\n",
    "             'Train Mean Absolute Error'bag_train_mae,\n",
    "             'Test Mean Absolute Error':bag_test_mae,\n",
    "             'Train R square':bag_train_r2,\n",
    "             'Test R square':bag_test_r2,\n",
    "             'Train Adj R Square':bag_train_ad_r2,\n",
    "             'Test Adj R Square':bag_train_ad_r2,\n",
    "})  \n",
    "Bagging_reort=pd.DataFrame(rf_record)\n",
    "Bagging_report\n",
    "    \n",
    "                          "
   ]
  },
  {
   "cell_type": "code",
   "execution_count": null,
   "metadata": {},
   "outputs": [],
   "source": [
    "#Hyper-parameter tunning of bagging regreesor"
   ]
  },
  {
   "cell_type": "code",
   "execution_count": null,
   "metadata": {},
   "outputs": [],
   "source": [
    "bag_param={\n",
    "    'n_estimators':[50,100,200,500],\n",
    "    'max_samples':range(2,5,1),\n",
    "    'max_features':[2,3]\n",
    "}"
   ]
  },
  {
   "cell_type": "code",
   "execution_count": null,
   "metadata": {},
   "outputs": [],
   "source": [
    "bag_ran_search=RandomizedSearchCV(estimatior=dt_bag,\n",
    "                    param_distributions=bag_param,\n",
    "                    n_iter=100,\n",
    "                    n_jobs=1  \n",
    "                    cv=3,\n",
    "                    verbose=2              \n",
    "                    )"
   ]
  },
  {
   "cell_type": "code",
   "execution_count": null,
   "metadata": {},
   "outputs": [],
   "source": [
    "bag_ran_search.fit(x_train,y_train)"
   ]
  },
  {
   "cell_type": "code",
   "execution_count": null,
   "metadata": {},
   "outputs": [],
   "source": [
    "bag_ran_search.best_params_bag_ran_search_estimator_"
   ]
  },
  {
   "cell_type": "code",
   "execution_count": null,
   "metadata": {},
   "outputs": [],
   "source": [
    "bag_model_hyp=BaggingRegressor(max_features=4,max_samples=10,n_estimators=50)\n",
    "bag_model_hyp.fit(x_train,y_train)\n",
    "#predictions\n",
    "train_pred_baghyp=bag_model_hyp.predict(x_train)\n",
    "test_pred_baghyp=bag_model_hyp.predict(x_test)\n",
    "\n",
    "#training data performance matrix\n",
    "baghy_train_mse=mean_squared_error(y_train,train_pred_baghyp)  #calculate MSE\n",
    "baghy_train_mae=mean_absolute_error(y_train,train_pred_baghyp) #calculate MAE\n",
    "baghy_train_r2=r2_score(y_train,train_pred_baghyp)             #calculate 2 square\n",
    "baghy_train_ad_r2=1-(1-baghy_train_r2)*(len(y_train)-1)/(len(y_train)-x_train.shape[1]\n",
    "\n",
    "#test data performance matrix\n",
    "baghy_test_mse=mean_squared_error(y_test,test_pred_baghyp)  #calculate MSE\n",
    "baghy_test_mae=mean_absolute_error(y_test,test_pred_baghyp) #calculate MAE\n",
    "baghy_test_r2=r2_score(y_test,test_pred_baghyp)             #calculate 2 square\n",
    "baghy_test_ad_r2=1-(1-baghy_test_r2)*(len(y_test)-1)/(len(y_test)-x_test.shape[1]-1)\n",
    "\n",
    "\n",
    "print(\"hyperparameter tunning for bagging regressor\")\n",
    "print(\"Model Performance For Training Data\")\n",
    "print(\"-Mean Squared Error: (:4f}\".format (baghy_train_mse) )\n",
    "print(\"-Mean Absolute Error {.4f}\". format (baghy_train_mae))\n",
    "print(\"-R Sqaure : {:.4f}\".format (baghy_train_r2))\n",
    "print(\"-Adj R Sqaure:{:.4f}\".format(baghy_train_ad_r2))\n",
    "\n",
    "\n",
    "print(\"---------------------------\")\n",
    "\n",
    "print(\"Model Performance For Test Data\")\n",
    "print(\"-Mean Squared Error: (:4f}\".format (baghy_test_mse) )\n",
    "print(\"-Mean Absolute Error {.4f}\". format (baghy_test_mae))\n",
    "print(\"-R Sqaure : {:.4f}\".format (baghy_test_r2))\n",
    "print(\"-Adj R Sqaure:{:.4f}\".format(baghy_test_ad_r2))\n",
    "\n"
   ]
  },
  {
   "cell_type": "code",
   "execution_count": null,
   "metadata": {},
   "outputs": [],
   "source": [
    "bag_record=[] \n",
    "report.append({\n",
    "             \"model\":\"hyper-parameter tunning on bagging Regressor\",\n",
    "             'Train Mean Squared Error':baghy_train_mse,\n",
    "             'Test Mean Squared Error':baghy_test_mse,\n",
    "             'Train Mean Absolute Error'baghy_train_mae,\n",
    "             'Test Mean Absolute Error':baghy_test_mae,\n",
    "             'Train R square':baghy_train_r2,\n",
    "             'Test R square':baghy_test_r2,\n",
    "             'Train Adj R Square':baghy_train_ad_r2,\n",
    "             'Test Adj R Square':baghy_train_ad_r2,\n",
    "              })  \n",
    "hypertuned_bag=pd.DataFrame(bag_record)\n",
    "hypertuned_bag "
   ]
  },
  {
   "cell_type": "markdown",
   "metadata": {},
   "source": [
    "# Summary\n",
    "#accuracy report for all columns"
   ]
  },
  {
   "cell_type": "code",
   "execution_count": null,
   "metadata": {},
   "outputs": [],
   "source": [
    "frames3=[all_model,Bagging_report,Hypertuned_rf,Hypertuned_bag]\n",
    "all_records=pd.concat(frames3)\n",
    "all_records.reset_index(inplace=True)\n",
    "all_records.drop('index',axis=1,inplace=True)\n",
    "all_records.sort_values(by='Test R Square',ascending=False)"
   ]
  },
  {
   "cell_type": "code",
   "execution_count": null,
   "metadata": {},
   "outputs": [],
   "source": [
    "#store the best model in pickle file\n",
    "import pickle\n",
    "pickle.dump(rf_best_para,open('random_forest_hypertuned.sav',;wb))"
   ]
  }
 ],
 "metadata": {
  "kernelspec": {
   "display_name": "Python 3",
   "language": "python",
   "name": "python3"
  },
  "language_info": {
   "codemirror_mode": {
    "name": "ipython",
    "version": 3
   },
   "file_extension": ".py",
   "mimetype": "text/x-python",
   "name": "python",
   "nbconvert_exporter": "python",
   "pygments_lexer": "ipython3",
   "version": "3.8.3"
  }
 },
 "nbformat": 4,
 "nbformat_minor": 4
}
